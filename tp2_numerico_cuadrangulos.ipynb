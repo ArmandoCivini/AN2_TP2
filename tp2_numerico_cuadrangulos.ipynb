{
  "nbformat": 4,
  "nbformat_minor": 0,
  "metadata": {
    "colab": {
      "provenance": []
    },
    "kernelspec": {
      "name": "python3",
      "display_name": "Python 3"
    },
    "language_info": {
      "name": "python"
    }
  },
  "cells": [
    {
      "cell_type": "code",
      "execution_count": null,
      "metadata": {
        "colab": {
          "base_uri": "https://localhost:8080/"
        },
        "id": "IDhug4WJmcxj",
        "outputId": "3fb9bab7-3ef8-4e1f-ec7a-3f1a4cbee474"
      },
      "outputs": [
        {
          "output_type": "stream",
          "name": "stdout",
          "text": [
            "Looking in indexes: https://pypi.org/simple, https://us-python.pkg.dev/colab-wheels/public/simple/\n",
            "Collecting gmshparser\n",
            "  Downloading gmshparser-0.2.0-py3-none-any.whl (19 kB)\n",
            "Installing collected packages: gmshparser\n",
            "Successfully installed gmshparser-0.2.0\n"
          ]
        }
      ],
      "source": [
        "!pip install gmshparser"
      ]
    },
    {
      "cell_type": "code",
      "source": [
        "!git clone https://github.com/ArmandoCivini/AN2_TP2.git\n",
        "# si esto tira \"fatal: destination path 'AN2_TP2' already exists and is not an empty directory.\"\n",
        "#no pasa nada significa que el repo ya esta clonado\n",
        "#si actualizaste el repo y queres clonarlo devuelta solo hay que borrar la carpeta"
      ],
      "metadata": {
        "colab": {
          "base_uri": "https://localhost:8080/"
        },
        "id": "eaqT23_MBAWa",
        "outputId": "3a5d9bc0-ddf4-430e-db9f-f7cf00949e9e"
      },
      "execution_count": null,
      "outputs": [
        {
          "output_type": "stream",
          "name": "stdout",
          "text": [
            "Cloning into 'AN2_TP2'...\n",
            "remote: Enumerating objects: 38, done.\u001b[K\n",
            "remote: Counting objects: 100% (38/38), done.\u001b[K\n",
            "remote: Compressing objects: 100% (38/38), done.\u001b[K\n",
            "remote: Total 38 (delta 13), reused 0 (delta 0), pack-reused 0\u001b[K\n",
            "Unpacking objects: 100% (38/38), 242.19 KiB | 4.66 MiB/s, done.\n"
          ]
        }
      ]
    },
    {
      "cell_type": "code",
      "source": [
        "import gmshparser\n",
        "mesh = gmshparser.parse(\"AN2_TP2/ipn_cuadrangular.msh\") #para cambiar la malla hay que subirla al github y despues cambiar el nombre aca\n",
        "                                            #el path es diferente si lo estas corriendo local\n",
        "print(mesh)"
      ],
      "metadata": {
        "colab": {
          "base_uri": "https://localhost:8080/"
        },
        "id": "gYRQ4sWPmzog",
        "outputId": "5e2def94-1950-4cec-d3cd-3401da80f06e"
      },
      "execution_count": null,
      "outputs": [
        {
          "output_type": "stream",
          "name": "stdout",
          "text": [
            "Mesh name: AN2_TP2/ipn_cuadrangular.msh\n",
            "Mesh version: 4.1\n",
            "Number of nodes: 164\n",
            "Minimum node tag: 1\n",
            "Maximum node tag: 164\n",
            "Number of node entities: 45\n",
            "Number of elements: 244\n",
            "Minimum element tag: 1\n",
            "Maximum element tag: 244\n",
            "Number of element entities: 45\n"
          ]
        }
      ]
    },
    {
      "cell_type": "code",
      "source": [
        "cont = 0\n",
        "nodes = [] #aca guardo todos los nodos juntos para no tener que andar recorriendo entidades\n",
        "for entity in mesh.get_node_entities():\n",
        "    print(\"entidad: \" + str(cont))\n",
        "    cont += 1\n",
        "    for node in entity.get_nodes():\n",
        "        nid = node.get_tag()\n",
        "        ncoords = node.get_coordinates()\n",
        "        print(\"Node id = %s, node coordinates = %s\" % (nid, ncoords))\n",
        "        nodes.append(node)"
      ],
      "metadata": {
        "id": "zd4b43dNmzr0",
        "colab": {
          "base_uri": "https://localhost:8080/"
        },
        "outputId": "7d672c13-0ab2-4226-d006-cdee34de2ff7"
      },
      "execution_count": null,
      "outputs": [
        {
          "output_type": "stream",
          "name": "stdout",
          "text": [
            "entidad: 0\n",
            "Node id = 1, node coordinates = (0.0, 600.0, 0.0)\n",
            "entidad: 1\n",
            "Node id = 2, node coordinates = (0.0, 567.0, 0.0)\n",
            "entidad: 2\n",
            "Node id = 3, node coordinates = (97.0, 567.0, 0.0)\n",
            "entidad: 3\n",
            "Node id = 4, node coordinates = (97.0, 33.0, 0.0)\n",
            "entidad: 4\n",
            "Node id = 5, node coordinates = (0.0, 33.0, 0.0)\n",
            "entidad: 5\n",
            "Node id = 6, node coordinates = (0.0, 0.0, 0.0)\n",
            "entidad: 6\n",
            "Node id = 7, node coordinates = (215.0, 0.0, 0.0)\n",
            "entidad: 7\n",
            "Node id = 8, node coordinates = (215.0, 33.0, 0.0)\n",
            "entidad: 8\n",
            "Node id = 9, node coordinates = (118.0, 33.0, 0.0)\n",
            "entidad: 9\n",
            "Node id = 10, node coordinates = (118.0, 567.0, 0.0)\n",
            "entidad: 10\n",
            "Node id = 11, node coordinates = (215.0, 567.0, 0.0)\n",
            "entidad: 11\n",
            "Node id = 12, node coordinates = (215.0, 600.0, 0.0)\n",
            "entidad: 12\n",
            "Node id = 13, node coordinates = (97.0, 0.0, 0.0)\n",
            "entidad: 13\n",
            "Node id = 14, node coordinates = (97.0, 600.0, 0.0)\n",
            "entidad: 14\n",
            "Node id = 15, node coordinates = (118.0, 0.0, 0.0)\n",
            "entidad: 15\n",
            "Node id = 16, node coordinates = (118.0, 600.0, 0.0)\n",
            "entidad: 16\n",
            "Node id = 17, node coordinates = (24.24999999994225, 600.0, 0.0)\n",
            "Node id = 18, node coordinates = (48.49999999984433, 600.0, 0.0)\n",
            "Node id = 19, node coordinates = (72.74999999992147, 600.0, 0.0)\n",
            "entidad: 17\n",
            "Node id = 20, node coordinates = (107.5, 600.0, 0.0)\n",
            "entidad: 18\n",
            "Node id = 21, node coordinates = (142.25, 600.0, 0.0)\n",
            "Node id = 22, node coordinates = (166.5, 600.0, 0.0)\n",
            "Node id = 23, node coordinates = (190.75, 600.0, 0.0)\n",
            "entidad: 19\n",
            "Node id = 24, node coordinates = (215.0, 591.75, 0.0)\n",
            "Node id = 25, node coordinates = (215.0, 583.5, 0.0)\n",
            "Node id = 26, node coordinates = (215.0, 575.25, 0.0)\n",
            "entidad: 20\n",
            "Node id = 27, node coordinates = (190.75, 567.0, 0.0)\n",
            "Node id = 28, node coordinates = (166.5, 567.0, 0.0)\n",
            "Node id = 29, node coordinates = (142.25, 567.0, 0.0)\n",
            "entidad: 21\n",
            "Node id = 30, node coordinates = (118.0, 538.8947368423133, 0.0)\n",
            "Node id = 31, node coordinates = (118.0, 510.789473684616, 0.0)\n",
            "Node id = 32, node coordinates = (118.0, 482.6842105266418, 0.0)\n",
            "Node id = 33, node coordinates = (118.0, 454.5789473686559, 0.0)\n",
            "Node id = 34, node coordinates = (118.0, 426.4736842108114, 0.0)\n",
            "Node id = 35, node coordinates = (118.0, 398.3684210531247, 0.0)\n",
            "Node id = 36, node coordinates = (118.0, 370.263157895438, 0.0)\n",
            "Node id = 37, node coordinates = (118.0, 342.1578947377512, 0.0)\n",
            "Node id = 38, node coordinates = (118.0, 314.0526315800645, 0.0)\n",
            "Node id = 39, node coordinates = (118.0, 285.9473684221172, 0.0)\n",
            "Node id = 40, node coordinates = (118.0, 257.8421052641313, 0.0)\n",
            "Node id = 41, node coordinates = (118.0, 229.7368421061454, 0.0)\n",
            "Node id = 42, node coordinates = (118.0, 201.6315789481596, 0.0)\n",
            "Node id = 43, node coordinates = (118.0, 173.5263157901737, 0.0)\n",
            "Node id = 44, node coordinates = (118.0, 145.4210526321878, 0.0)\n",
            "Node id = 45, node coordinates = (118.0, 117.3157894742019, 0.0)\n",
            "Node id = 46, node coordinates = (118.0, 89.21052631621603, 0.0)\n",
            "Node id = 47, node coordinates = (118.0, 61.10526315823017, 0.0)\n",
            "entidad: 22\n",
            "Node id = 48, node coordinates = (142.25, 33.0, 0.0)\n",
            "Node id = 49, node coordinates = (166.5, 33.0, 0.0)\n",
            "Node id = 50, node coordinates = (190.75, 33.0, 0.0)\n",
            "entidad: 23\n",
            "Node id = 51, node coordinates = (215.0, 24.75000000000623, 0.0)\n",
            "Node id = 52, node coordinates = (215.0, 16.5000000000062, 0.0)\n",
            "Node id = 53, node coordinates = (215.0, 8.250000000003443, 0.0)\n",
            "entidad: 24\n",
            "Node id = 54, node coordinates = (190.75, 0.0, 0.0)\n",
            "Node id = 55, node coordinates = (166.5, 0.0, 0.0)\n",
            "Node id = 56, node coordinates = (142.25, 0.0, 0.0)\n",
            "entidad: 25\n",
            "Node id = 57, node coordinates = (107.5, 0.0, 0.0)\n",
            "entidad: 26\n",
            "Node id = 58, node coordinates = (72.74999999997164, 0.0, 0.0)\n",
            "Node id = 59, node coordinates = (48.50000000005569, 0.0, 0.0)\n",
            "Node id = 60, node coordinates = (24.25000000002854, 0.0, 0.0)\n",
            "entidad: 27\n",
            "Node id = 61, node coordinates = (0.0, 8.249999999977819, 0.0)\n",
            "Node id = 62, node coordinates = (0.0, 16.49999999995489, 0.0)\n",
            "Node id = 63, node coordinates = (0.0, 24.7499999999771, 0.0)\n",
            "entidad: 28\n",
            "Node id = 64, node coordinates = (24.24999999994225, 33.0, 0.0)\n",
            "Node id = 65, node coordinates = (48.49999999984433, 33.0, 0.0)\n",
            "Node id = 66, node coordinates = (72.74999999992147, 33.0, 0.0)\n",
            "entidad: 29\n",
            "Node id = 67, node coordinates = (97.0, 61.10526315785057, 0.0)\n",
            "Node id = 68, node coordinates = (97.0, 89.21052631575361, 0.0)\n",
            "Node id = 69, node coordinates = (97.0, 117.3157894736183, 0.0)\n",
            "Node id = 70, node coordinates = (97.0, 145.42105263151, 0.0)\n",
            "Node id = 71, node coordinates = (97.0, 173.5263157893563, 0.0)\n",
            "Node id = 72, node coordinates = (97.0, 201.6315789471238, 0.0)\n",
            "Node id = 73, node coordinates = (97.0, 229.7368421048913, 0.0)\n",
            "Node id = 74, node coordinates = (97.0, 257.8421052626489, 0.0)\n",
            "Node id = 75, node coordinates = (97.0, 285.947368420268, 0.0)\n",
            "Node id = 76, node coordinates = (97.0, 314.0526315781466, 0.0)\n",
            "Node id = 77, node coordinates = (97.0, 342.1578947360637, 0.0)\n",
            "Node id = 78, node coordinates = (97.0, 370.2631578939808, 0.0)\n",
            "Node id = 79, node coordinates = (97.0, 398.3684210518979, 0.0)\n",
            "Node id = 80, node coordinates = (97.0, 426.473684209815, 0.0)\n",
            "Node id = 81, node coordinates = (97.0, 454.5789473677321, 0.0)\n",
            "Node id = 82, node coordinates = (97.0, 482.6842105256492, 0.0)\n",
            "Node id = 83, node coordinates = (97.0, 510.789473683578, 0.0)\n",
            "Node id = 84, node coordinates = (97.0, 538.8947368417837, 0.0)\n",
            "entidad: 30\n",
            "Node id = 85, node coordinates = (72.74999999997164, 567.0, 0.0)\n",
            "Node id = 86, node coordinates = (48.50000000005569, 567.0, 0.0)\n",
            "Node id = 87, node coordinates = (24.25000000002854, 567.0, 0.0)\n",
            "entidad: 31\n",
            "Node id = 88, node coordinates = (0.0, 575.25, 0.0)\n",
            "Node id = 89, node coordinates = (0.0, 583.5, 0.0)\n",
            "Node id = 90, node coordinates = (0.0, 591.75, 0.0)\n",
            "entidad: 32\n",
            "Node id = 91, node coordinates = (97.0, 591.75, 0.0)\n",
            "Node id = 92, node coordinates = (97.0, 583.5, 0.0)\n",
            "Node id = 93, node coordinates = (97.0, 575.25, 0.0)\n",
            "entidad: 33\n",
            "Node id = 94, node coordinates = (107.5, 567.0, 0.0)\n",
            "entidad: 34\n",
            "Node id = 95, node coordinates = (118.0, 575.25, 0.0)\n",
            "Node id = 96, node coordinates = (118.0, 583.5, 0.0)\n",
            "Node id = 97, node coordinates = (118.0, 591.75, 0.0)\n",
            "entidad: 35\n",
            "Node id = 98, node coordinates = (97.0, 24.75000000000623, 0.0)\n",
            "Node id = 99, node coordinates = (97.0, 16.5000000000062, 0.0)\n",
            "Node id = 100, node coordinates = (97.0, 8.250000000003443, 0.0)\n",
            "entidad: 36\n",
            "Node id = 101, node coordinates = (118.0, 8.249999999977819, 0.0)\n",
            "Node id = 102, node coordinates = (118.0, 16.49999999995489, 0.0)\n",
            "Node id = 103, node coordinates = (118.0, 24.7499999999771, 0.0)\n",
            "entidad: 37\n",
            "Node id = 104, node coordinates = (107.5, 33.0, 0.0)\n",
            "entidad: 38\n",
            "Node id = 105, node coordinates = (24.24999999996382, 591.75, 0.0)\n",
            "Node id = 106, node coordinates = (24.24999999998539, 583.5, 0.0)\n",
            "Node id = 107, node coordinates = (24.25000000000696, 575.25, 0.0)\n",
            "Node id = 108, node coordinates = (48.49999999989717, 591.75, 0.0)\n",
            "Node id = 109, node coordinates = (48.49999999995001, 583.5, 0.0)\n",
            "Node id = 110, node coordinates = (48.50000000000284, 575.25, 0.0)\n",
            "Node id = 111, node coordinates = (72.74999999993402, 591.75, 0.0)\n",
            "Node id = 112, node coordinates = (72.74999999994655, 583.5, 0.0)\n",
            "Node id = 113, node coordinates = (72.74999999995909, 575.25, 0.0)\n",
            "entidad: 39\n",
            "Node id = 114, node coordinates = (107.5, 591.75, 0.0)\n",
            "Node id = 115, node coordinates = (107.5, 583.5, 0.0)\n",
            "Node id = 116, node coordinates = (107.5, 575.25, 0.0)\n",
            "entidad: 40\n",
            "Node id = 117, node coordinates = (142.25, 591.75, 0.0)\n",
            "Node id = 118, node coordinates = (142.25, 583.5, 0.0)\n",
            "Node id = 119, node coordinates = (142.25, 575.25, 0.0)\n",
            "Node id = 120, node coordinates = (166.5, 591.75, 0.0)\n",
            "Node id = 121, node coordinates = (166.5, 583.5, 0.0)\n",
            "Node id = 122, node coordinates = (166.5, 575.25, 0.0)\n",
            "Node id = 123, node coordinates = (190.75, 591.75, 0.0)\n",
            "Node id = 124, node coordinates = (190.75, 583.5, 0.0)\n",
            "Node id = 125, node coordinates = (190.75, 575.25, 0.0)\n",
            "entidad: 41\n",
            "Node id = 126, node coordinates = (142.2499999999999, 24.74999999998438, 0.0)\n",
            "Node id = 127, node coordinates = (142.2499999999999, 16.49999999996771, 0.0)\n",
            "Node id = 128, node coordinates = (142.2499999999999, 8.249999999984219, 0.0)\n",
            "Node id = 129, node coordinates = (166.5, 24.74999999999167, 0.0)\n",
            "Node id = 130, node coordinates = (166.4999999999999, 16.49999999998055, 0.0)\n",
            "Node id = 131, node coordinates = (166.4999999999999, 8.249999999990628, 0.0)\n",
            "Node id = 132, node coordinates = (190.75, 24.74999999999894, 0.0)\n",
            "Node id = 133, node coordinates = (190.7499999999999, 16.49999999999336, 0.0)\n",
            "Node id = 134, node coordinates = (190.7499999999999, 8.249999999997033, 0.0)\n",
            "entidad: 42\n",
            "Node id = 135, node coordinates = (107.5, 24.74999999999166, 0.0)\n",
            "Node id = 136, node coordinates = (107.5, 16.49999999998055, 0.0)\n",
            "Node id = 137, node coordinates = (107.5, 8.249999999990631, 0.0)\n",
            "entidad: 43\n",
            "Node id = 138, node coordinates = (24.24999999996382, 24.74999999998439, 0.0)\n",
            "Node id = 139, node coordinates = (24.24999999998539, 16.49999999996772, 0.0)\n",
            "Node id = 140, node coordinates = (24.25000000000696, 8.249999999984226, 0.0)\n",
            "Node id = 141, node coordinates = (48.49999999989717, 24.74999999999167, 0.0)\n",
            "Node id = 142, node coordinates = (48.49999999995001, 16.49999999998055, 0.0)\n",
            "Node id = 143, node coordinates = (48.50000000000284, 8.249999999990628, 0.0)\n",
            "Node id = 144, node coordinates = (72.74999999993402, 24.74999999999896, 0.0)\n",
            "Node id = 145, node coordinates = (72.74999999994655, 16.49999999999337, 0.0)\n",
            "Node id = 146, node coordinates = (72.74999999995909, 8.249999999997037, 0.0)\n",
            "entidad: 44\n",
            "Node id = 147, node coordinates = (107.5, 538.8947368420484, 0.0)\n",
            "Node id = 148, node coordinates = (107.5, 510.7894736840971, 0.0)\n",
            "Node id = 149, node coordinates = (107.5, 482.6842105261455, 0.0)\n",
            "Node id = 150, node coordinates = (107.5, 454.578947368194, 0.0)\n",
            "Node id = 151, node coordinates = (107.5, 426.4736842103132, 0.0)\n",
            "Node id = 152, node coordinates = (107.5, 398.3684210525113, 0.0)\n",
            "Node id = 153, node coordinates = (107.5, 370.2631578947094, 0.0)\n",
            "Node id = 154, node coordinates = (107.5, 342.1578947369075, 0.0)\n",
            "Node id = 155, node coordinates = (107.5, 314.0526315791055, 0.0)\n",
            "Node id = 156, node coordinates = (107.5, 285.9473684211926, 0.0)\n",
            "Node id = 157, node coordinates = (107.5, 257.8421052633902, 0.0)\n",
            "Node id = 158, node coordinates = (107.5, 229.7368421055184, 0.0)\n",
            "Node id = 159, node coordinates = (107.5, 201.6315789476417, 0.0)\n",
            "Node id = 160, node coordinates = (107.5, 173.526315789765, 0.0)\n",
            "Node id = 161, node coordinates = (107.5, 145.4210526318489, 0.0)\n",
            "Node id = 162, node coordinates = (107.5, 117.3157894739101, 0.0)\n",
            "Node id = 163, node coordinates = (107.5, 89.21052631598482, 0.0)\n",
            "Node id = 164, node coordinates = (107.5, 61.10526315804037, 0.0)\n"
          ]
        }
      ]
    },
    {
      "cell_type": "code",
      "source": [
        "elements = [] #aca guardo todos los elementos juntos para no tener que andar recorriendo entidades\n",
        "for entity in mesh.get_element_entities():\n",
        "    eltype = entity.get_element_type()\n",
        "    print(\"Element type: %s\" % eltype)\n",
        "    if eltype != 3:\n",
        "      continue\n",
        "    for element in entity.get_elements():\n",
        "        elid = element.get_tag()\n",
        "        elcon = element.get_connectivity()\n",
        "        print(\"Element id = %s, connectivity = %s\" % (elid, elcon))\n",
        "        elements.append(element)"
      ],
      "metadata": {
        "colab": {
          "base_uri": "https://localhost:8080/"
        },
        "id": "E5ufZ_MEcUx6",
        "outputId": "492773e4-4faf-4498-9d51-df647c89d368"
      },
      "execution_count": null,
      "outputs": [
        {
          "output_type": "stream",
          "name": "stdout",
          "text": [
            "Element type: 15\n",
            "Element type: 15\n",
            "Element type: 15\n",
            "Element type: 15\n",
            "Element type: 15\n",
            "Element type: 15\n",
            "Element type: 15\n",
            "Element type: 15\n",
            "Element type: 15\n",
            "Element type: 15\n",
            "Element type: 15\n",
            "Element type: 15\n",
            "Element type: 15\n",
            "Element type: 15\n",
            "Element type: 15\n",
            "Element type: 15\n",
            "Element type: 1\n",
            "Element type: 1\n",
            "Element type: 1\n",
            "Element type: 1\n",
            "Element type: 1\n",
            "Element type: 1\n",
            "Element type: 1\n",
            "Element type: 1\n",
            "Element type: 1\n",
            "Element type: 1\n",
            "Element type: 1\n",
            "Element type: 1\n",
            "Element type: 1\n",
            "Element type: 1\n",
            "Element type: 1\n",
            "Element type: 1\n",
            "Element type: 1\n",
            "Element type: 1\n",
            "Element type: 1\n",
            "Element type: 1\n",
            "Element type: 1\n",
            "Element type: 1\n",
            "Element type: 3\n",
            "Element id = 127, connectivity = [1, 17, 105, 90]\n",
            "Element id = 128, connectivity = [90, 105, 106, 89]\n",
            "Element id = 129, connectivity = [89, 106, 107, 88]\n",
            "Element id = 130, connectivity = [88, 107, 87, 2]\n",
            "Element id = 131, connectivity = [17, 18, 108, 105]\n",
            "Element id = 132, connectivity = [105, 108, 109, 106]\n",
            "Element id = 133, connectivity = [106, 109, 110, 107]\n",
            "Element id = 134, connectivity = [107, 110, 86, 87]\n",
            "Element id = 135, connectivity = [18, 19, 111, 108]\n",
            "Element id = 136, connectivity = [108, 111, 112, 109]\n",
            "Element id = 137, connectivity = [109, 112, 113, 110]\n",
            "Element id = 138, connectivity = [110, 113, 85, 86]\n",
            "Element id = 139, connectivity = [19, 14, 91, 111]\n",
            "Element id = 140, connectivity = [111, 91, 92, 112]\n",
            "Element id = 141, connectivity = [112, 92, 93, 113]\n",
            "Element id = 142, connectivity = [113, 93, 3, 85]\n",
            "Element type: 3\n",
            "Element id = 143, connectivity = [14, 20, 114, 91]\n",
            "Element id = 144, connectivity = [91, 114, 115, 92]\n",
            "Element id = 145, connectivity = [92, 115, 116, 93]\n",
            "Element id = 146, connectivity = [93, 116, 94, 3]\n",
            "Element id = 147, connectivity = [20, 16, 97, 114]\n",
            "Element id = 148, connectivity = [114, 97, 96, 115]\n",
            "Element id = 149, connectivity = [115, 96, 95, 116]\n",
            "Element id = 150, connectivity = [116, 95, 10, 94]\n",
            "Element type: 3\n",
            "Element id = 151, connectivity = [16, 21, 117, 97]\n",
            "Element id = 152, connectivity = [97, 117, 118, 96]\n",
            "Element id = 153, connectivity = [96, 118, 119, 95]\n",
            "Element id = 154, connectivity = [95, 119, 29, 10]\n",
            "Element id = 155, connectivity = [21, 22, 120, 117]\n",
            "Element id = 156, connectivity = [117, 120, 121, 118]\n",
            "Element id = 157, connectivity = [118, 121, 122, 119]\n",
            "Element id = 158, connectivity = [119, 122, 28, 29]\n",
            "Element id = 159, connectivity = [22, 23, 123, 120]\n",
            "Element id = 160, connectivity = [120, 123, 124, 121]\n",
            "Element id = 161, connectivity = [121, 124, 125, 122]\n",
            "Element id = 162, connectivity = [122, 125, 27, 28]\n",
            "Element id = 163, connectivity = [23, 12, 24, 123]\n",
            "Element id = 164, connectivity = [123, 24, 25, 124]\n",
            "Element id = 165, connectivity = [124, 25, 26, 125]\n",
            "Element id = 166, connectivity = [125, 26, 11, 27]\n",
            "Element type: 3\n",
            "Element id = 167, connectivity = [9, 48, 126, 103]\n",
            "Element id = 168, connectivity = [103, 126, 127, 102]\n",
            "Element id = 169, connectivity = [102, 127, 128, 101]\n",
            "Element id = 170, connectivity = [101, 128, 56, 15]\n",
            "Element id = 171, connectivity = [48, 49, 129, 126]\n",
            "Element id = 172, connectivity = [126, 129, 130, 127]\n",
            "Element id = 173, connectivity = [127, 130, 131, 128]\n",
            "Element id = 174, connectivity = [128, 131, 55, 56]\n",
            "Element id = 175, connectivity = [49, 50, 132, 129]\n",
            "Element id = 176, connectivity = [129, 132, 133, 130]\n",
            "Element id = 177, connectivity = [130, 133, 134, 131]\n",
            "Element id = 178, connectivity = [131, 134, 54, 55]\n",
            "Element id = 179, connectivity = [50, 8, 51, 132]\n",
            "Element id = 180, connectivity = [132, 51, 52, 133]\n",
            "Element id = 181, connectivity = [133, 52, 53, 134]\n",
            "Element id = 182, connectivity = [134, 53, 7, 54]\n",
            "Element type: 3\n",
            "Element id = 183, connectivity = [9, 104, 135, 103]\n",
            "Element id = 184, connectivity = [103, 135, 136, 102]\n",
            "Element id = 185, connectivity = [102, 136, 137, 101]\n",
            "Element id = 186, connectivity = [101, 137, 57, 15]\n",
            "Element id = 187, connectivity = [104, 4, 98, 135]\n",
            "Element id = 188, connectivity = [135, 98, 99, 136]\n",
            "Element id = 189, connectivity = [136, 99, 100, 137]\n",
            "Element id = 190, connectivity = [137, 100, 13, 57]\n",
            "Element type: 3\n",
            "Element id = 191, connectivity = [5, 64, 138, 63]\n",
            "Element id = 192, connectivity = [63, 138, 139, 62]\n",
            "Element id = 193, connectivity = [62, 139, 140, 61]\n",
            "Element id = 194, connectivity = [61, 140, 60, 6]\n",
            "Element id = 195, connectivity = [64, 65, 141, 138]\n",
            "Element id = 196, connectivity = [138, 141, 142, 139]\n",
            "Element id = 197, connectivity = [139, 142, 143, 140]\n",
            "Element id = 198, connectivity = [140, 143, 59, 60]\n",
            "Element id = 199, connectivity = [65, 66, 144, 141]\n",
            "Element id = 200, connectivity = [141, 144, 145, 142]\n",
            "Element id = 201, connectivity = [142, 145, 146, 143]\n",
            "Element id = 202, connectivity = [143, 146, 58, 59]\n",
            "Element id = 203, connectivity = [66, 4, 98, 144]\n",
            "Element id = 204, connectivity = [144, 98, 99, 145]\n",
            "Element id = 205, connectivity = [145, 99, 100, 146]\n",
            "Element id = 206, connectivity = [146, 100, 13, 58]\n",
            "Element type: 3\n",
            "Element id = 207, connectivity = [3, 94, 147, 84]\n",
            "Element id = 208, connectivity = [84, 147, 148, 83]\n",
            "Element id = 209, connectivity = [83, 148, 149, 82]\n",
            "Element id = 210, connectivity = [82, 149, 150, 81]\n",
            "Element id = 211, connectivity = [81, 150, 151, 80]\n",
            "Element id = 212, connectivity = [80, 151, 152, 79]\n",
            "Element id = 213, connectivity = [79, 152, 153, 78]\n",
            "Element id = 214, connectivity = [78, 153, 154, 77]\n",
            "Element id = 215, connectivity = [77, 154, 155, 76]\n",
            "Element id = 216, connectivity = [76, 155, 156, 75]\n",
            "Element id = 217, connectivity = [75, 156, 157, 74]\n",
            "Element id = 218, connectivity = [74, 157, 158, 73]\n",
            "Element id = 219, connectivity = [73, 158, 159, 72]\n",
            "Element id = 220, connectivity = [72, 159, 160, 71]\n",
            "Element id = 221, connectivity = [71, 160, 161, 70]\n",
            "Element id = 222, connectivity = [70, 161, 162, 69]\n",
            "Element id = 223, connectivity = [69, 162, 163, 68]\n",
            "Element id = 224, connectivity = [68, 163, 164, 67]\n",
            "Element id = 225, connectivity = [67, 164, 104, 4]\n",
            "Element id = 226, connectivity = [94, 10, 30, 147]\n",
            "Element id = 227, connectivity = [147, 30, 31, 148]\n",
            "Element id = 228, connectivity = [148, 31, 32, 149]\n",
            "Element id = 229, connectivity = [149, 32, 33, 150]\n",
            "Element id = 230, connectivity = [150, 33, 34, 151]\n",
            "Element id = 231, connectivity = [151, 34, 35, 152]\n",
            "Element id = 232, connectivity = [152, 35, 36, 153]\n",
            "Element id = 233, connectivity = [153, 36, 37, 154]\n",
            "Element id = 234, connectivity = [154, 37, 38, 155]\n",
            "Element id = 235, connectivity = [155, 38, 39, 156]\n",
            "Element id = 236, connectivity = [156, 39, 40, 157]\n",
            "Element id = 237, connectivity = [157, 40, 41, 158]\n",
            "Element id = 238, connectivity = [158, 41, 42, 159]\n",
            "Element id = 239, connectivity = [159, 42, 43, 160]\n",
            "Element id = 240, connectivity = [160, 43, 44, 161]\n",
            "Element id = 241, connectivity = [161, 44, 45, 162]\n",
            "Element id = 242, connectivity = [162, 45, 46, 163]\n",
            "Element id = 243, connectivity = [163, 46, 47, 164]\n",
            "Element id = 244, connectivity = [164, 47, 9, 104]\n"
          ]
        }
      ]
    },
    {
      "cell_type": "code",
      "source": [
        "nodes[34-1].get_tag() #la lista de nodos o elementos esta corrida 1 xq los indices empiezan en cero pero la numeracion de nodos o elementos empieza en 1"
      ],
      "metadata": {
        "colab": {
          "base_uri": "https://localhost:8080/"
        },
        "id": "MKZVHvOyuF6c",
        "outputId": "09bacb43-e930-452d-8a96-fab7b2345293"
      },
      "execution_count": null,
      "outputs": [
        {
          "output_type": "execute_result",
          "data": {
            "text/plain": [
              "34"
            ]
          },
          "metadata": {},
          "execution_count": 7
        }
      ]
    },
    {
      "cell_type": "code",
      "source": [
        "#matriz local de elementos cuadrados\n",
        "\n",
        "def node_distance(node1, node2):\n",
        "  #esta funcion calcula las distancias entre 2 nodos\n",
        "  #en las formulas serian los lxnode1node2 y lynode1node2\n",
        "  #es una generalizacion de estas ecuaciones https://github.com/ArmandoCivini/AN2_TP2/blob/main/tp2_pictures/lx_ly_reference.PNG?raw=true\n",
        "  node1_pos = node1.get_coordinates()\n",
        "  node2_pos = node2.get_coordinates()\n",
        "\n",
        "  lx = node2_pos[0] - node1_pos[0]\n",
        "  ly = node2_pos[1] - node1_pos[1]\n",
        "\n",
        "  return lx, ly\n",
        "\n",
        "def node_distance1234(node1, node2, node3, node4):\n",
        "  node1_pos = node1.get_coordinates()\n",
        "  node2_pos = node2.get_coordinates()\n",
        "  node3_pos = node3.get_coordinates()\n",
        "  node4_pos = node4.get_coordinates()\n",
        "\n",
        "  lx = -( node2_pos[0] - node1_pos[0] + node4_pos[0] - node3_pos[0] )\n",
        "  ly = -( node2_pos[1] - node1_pos[1] + node4_pos[1] - node3_pos[1] )\n",
        "\n",
        "  return lx, ly\n",
        "\n",
        "def N_e_1(n):\n",
        "  return -(1-n)\n",
        "\n",
        "def N_e_2(n):\n",
        "  return (1-n)\n",
        "\n",
        "def N_e_3(n):\n",
        "  return n\n",
        "\n",
        "def N_e_4(n):\n",
        "  return -n\n",
        "\n",
        "def N_n_1(e):\n",
        "  return -(1-e)\n",
        "\n",
        "def N_n_2(e):\n",
        "  return -e\n",
        "\n",
        "def N_n_3(e):\n",
        "  return e\n",
        "\n",
        "def N_n_4(e):\n",
        "  return (1-e)\n",
        "\n",
        "def delta_mod(A, B, C, n, e):\n",
        "  delta = (A * n) + (B * e) + C\n",
        "  return abs(delta)\n",
        "\n",
        "def v_ik_function(A, B, C, D, E, F, G, H, n, e, N_n, N_e):\n",
        "  delta = delta_mod(A, B, C, n, e)\n",
        "  DEH = (D * (e ** 2)) + (2 * E * e) + H\n",
        "  first_term = (DEH * N_e) / delta\n",
        "  DEFG = (D * e * n) + (E * n) + (F * e) + G\n",
        "  second_term = (DEFG * N_n) / delta\n",
        "  return first_term - second_term\n",
        "\n",
        "def h_ik_function(A, B, C, D, E, F, G, I, n, e, N_n, N_e):\n",
        "  delta = delta_mod(A, B, C, n, e)\n",
        "  DEFG = (D * e * n) + (E * n) + (F * e) + G\n",
        "  first_term = (DEFG * N_e) / delta\n",
        "  DFI = (D * (n ** 2)) + (2 * F * n) + I\n",
        "  second_term = (DFI * N_n) / delta\n",
        "  return first_term - second_term\n",
        "\n",
        "def integrate_v_ik(A, B, C, D, E, F, G, H, n_a, n_b, e, N_n, N_e):\n",
        "  #N_e is a function that recieves n\n",
        "  Xi = [-0.861136311594, -0.339981043585, 0.339981043585, 0.861136311594]\n",
        "  wi = [0.347854845137, 0.652145154862, 0.652145154862, 0.347854845137]\n",
        "  ab_minus = (n_b - n_a) / 2\n",
        "  ab_plus = (n_a + n_b) / 2\n",
        "  result = 0\n",
        "  for i in range(4):\n",
        "    function_eval = v_ik_function(A, B, C, D, E, F, G, H, (ab_minus * Xi[i]) + ab_plus, e, N_n, N_e((ab_minus * Xi[i]) + ab_plus))\n",
        "    result += wi[i] * function_eval\n",
        "  return ab_minus * result\n",
        "\n",
        "def integrate_h_ik(A, B, C, D, E, F, G, I, n, e_a, e_b, N_n, N_e):\n",
        "  Xi = [-0.861136311594, -0.339981043585, 0.339981043585, 0.861136311594]\n",
        "  wi = [0.347854845137, 0.652145154862, 0.652145154862, 0.347854845137]\n",
        "  ab_minus = (e_b - e_a) / 2\n",
        "  ab_plus = (e_a + e_b) / 2\n",
        "  result = 0\n",
        "  for i in range(4):\n",
        "    function_eval = h_ik_function(A, B, C, D, E, F, G, I, n, (ab_minus * Xi[i]) + ab_plus, N_n((ab_minus * Xi[i]) + ab_plus), N_e)\n",
        "    result += wi[i] * function_eval\n",
        "  return ab_minus * result\n",
        "\n",
        "\n",
        "\n",
        "def calculate_local_matrix(element, nodes):\n",
        "  nodes_global = element.get_connectivity()\n",
        "  #consigo los nodos del elemento\n",
        "  node1 = nodes[nodes_global[0]-1]\n",
        "  node2 = nodes[nodes_global[1]-1]\n",
        "  node3 = nodes[nodes_global[2]-1]\n",
        "  node4 = nodes[nodes_global[3]-1]\n",
        "\n",
        "  lx12, ly12 = node_distance(node1, node2)\n",
        "  lx14, ly14 = node_distance(node1, node4)\n",
        "  lx1234, ly1234 = node_distance1234(node1, node2, node3, node4)\n",
        "\n",
        "  A = (lx14 * ly1234) - (ly14 * lx1234)\n",
        "  B = (ly12 * lx1234) - (lx12 * ly1234)\n",
        "  C = (lx12 * ly14) - (ly12 * lx14)\n",
        "  D = (lx1234 ** 2) + (ly1234 ** 2)\n",
        "  E = (lx14 * lx1234) + (ly14 * ly1234)\n",
        "  F = (lx12 * lx1234) + (ly12 * ly1234)\n",
        "  G = (lx12 * lx14) + (ly12 * ly14)\n",
        "  H = (lx14 ** 2) + (ly14 ** 2)\n",
        "  I = (lx12 ** 2) + (ly12 ** 2)\n",
        "\n",
        "  a11 = integrate_v_ik(A, B, C, D, E, F, G, H, 0, 1/2, 1/2, N_n_1(1/2), N_e_1) + integrate_h_ik(A, B, C, D, E, F, G, I, 1/2, 1/2, 0, N_n_1, N_e_1(1/2))\n",
        "  a12 = integrate_v_ik(A, B, C, D, E, F, G, H, 0, 1/2, 1/2, N_n_2(1/2), N_e_2) + integrate_h_ik(A, B, C, D, E, F, G, I, 1/2, 1/2, 0, N_n_2, N_e_2(1/2))\n",
        "  a13 = integrate_v_ik(A, B, C, D, E, F, G, H, 0, 1/2, 1/2, N_n_3(1/2), N_e_3) + integrate_h_ik(A, B, C, D, E, F, G, I, 1/2, 1/2, 0, N_n_3, N_e_3(1/2))\n",
        "  a14 = integrate_v_ik(A, B, C, D, E, F, G, H, 0, 1/2, 1/2, N_n_4(1/2), N_e_4) + integrate_h_ik(A, B, C, D, E, F, G, I, 1/2, 1/2, 0, N_n_4, N_e_4(1/2))\n",
        "  a1 = [a11, a12, a13, a14]\n",
        "\n",
        "  a21 = integrate_v_ik(A, B, C, D, E, F, G, H, 1/2, 0, 1/2, N_n_1(1/2), N_e_1) + integrate_h_ik(A, B, C, D, E, F, G, I, 1/2, 1, 1/2, N_n_1, N_e_1(1/2))\n",
        "  a22 = integrate_v_ik(A, B, C, D, E, F, G, H, 1/2, 0, 1/2, N_n_2(1/2), N_e_2) + integrate_h_ik(A, B, C, D, E, F, G, I, 1/2, 1, 1/2, N_n_2, N_e_2(1/2))\n",
        "  a23 = integrate_v_ik(A, B, C, D, E, F, G, H, 1/2, 0, 1/2, N_n_3(1/2), N_e_3) + integrate_h_ik(A, B, C, D, E, F, G, I, 1/2, 1, 1/2, N_n_3, N_e_3(1/2))\n",
        "  a24 = integrate_v_ik(A, B, C, D, E, F, G, H, 1/2, 0, 1/2, N_n_4(1/2), N_e_4) + integrate_h_ik(A, B, C, D, E, F, G, I, 1/2, 1, 1/2, N_n_4, N_e_4(1/2))\n",
        "  a2 = [a21, a22, a23, a24]\n",
        "\n",
        "  a31 = integrate_v_ik(A, B, C, D, E, F, G, H, 1, 1/2, 1/2, N_n_1(1/2), N_e_1) + integrate_h_ik(A, B, C, D, E, F, G, I, 1/2, 1/2, 1, N_n_1, N_e_1(1/2))\n",
        "  a32 = integrate_v_ik(A, B, C, D, E, F, G, H, 1, 1/2, 1/2, N_n_2(1/2), N_e_2) + integrate_h_ik(A, B, C, D, E, F, G, I, 1/2, 1/2, 1, N_n_2, N_e_2(1/2))\n",
        "  a33 = integrate_v_ik(A, B, C, D, E, F, G, H, 1, 1/2, 1/2, N_n_3(1/2), N_e_3) + integrate_h_ik(A, B, C, D, E, F, G, I, 1/2, 1/2, 1, N_n_3, N_e_3(1/2))\n",
        "  a34 = integrate_v_ik(A, B, C, D, E, F, G, H, 1, 1/2, 1/2, N_n_4(1/2), N_e_4) + integrate_h_ik(A, B, C, D, E, F, G, I, 1/2, 1/2, 1, N_n_4, N_e_4(1/2))\n",
        "  a3 = [a31, a32, a33, a34]\n",
        "\n",
        "  a41 = integrate_v_ik(A, B, C, D, E, F, G, H, 1/2, 1, 1/2, N_n_1(1/2), N_e_1) + integrate_h_ik(A, B, C, D, E, F, G, I, 1/2, 0, 1/2, N_n_1, N_e_1(1/2))\n",
        "  a42 = integrate_v_ik(A, B, C, D, E, F, G, H, 1/2, 1, 1/2, N_n_2(1/2), N_e_2) + integrate_h_ik(A, B, C, D, E, F, G, I, 1/2, 0, 1/2, N_n_2, N_e_2(1/2))\n",
        "  a43 = integrate_v_ik(A, B, C, D, E, F, G, H, 1/2, 1, 1/2, N_n_3(1/2), N_e_3) + integrate_h_ik(A, B, C, D, E, F, G, I, 1/2, 0, 1/2, N_n_3, N_e_3(1/2))\n",
        "  a44 = integrate_v_ik(A, B, C, D, E, F, G, H, 1/2, 1, 1/2, N_n_4(1/2), N_e_4) + integrate_h_ik(A, B, C, D, E, F, G, I, 1/2, 0, 1/2, N_n_4, N_e_4(1/2))\n",
        "  a4 = [a41, a42, a43, a44]\n",
        "\n",
        "  return [a1, a2, a3, a4]"
      ],
      "metadata": {
        "id": "CQEGjMxQF1e_"
      },
      "execution_count": null,
      "outputs": []
    },
    {
      "cell_type": "code",
      "source": [
        "len(nodes)"
      ],
      "metadata": {
        "id": "CenAOS4WiNsJ",
        "outputId": "fd21af9b-0eba-46dd-bc51-afab6dfd1cee",
        "colab": {
          "base_uri": "https://localhost:8080/"
        }
      },
      "execution_count": null,
      "outputs": [
        {
          "output_type": "execute_result",
          "data": {
            "text/plain": [
              "164"
            ]
          },
          "metadata": {},
          "execution_count": 10
        }
      ]
    },
    {
      "cell_type": "code",
      "source": [
        "local_matrix_6 = calculate_local_matrix(elements[5], nodes) #devuelve la matriz local del elemento 6\n",
        "local_matrix_6"
      ],
      "metadata": {
        "colab": {
          "base_uri": "https://localhost:8080/"
        },
        "id": "eZq5oiYiRTzo",
        "outputId": "99383575-d5da-4b64-8b75-3f92c560933b"
      },
      "execution_count": null,
      "outputs": [
        {
          "output_type": "execute_result",
          "data": {
            "text/plain": [
              "[[-1.2298500468565978,\n",
              "  -0.23984692283545045,\n",
              "  0.4099500156175267,\n",
              "  1.0597469540745217],\n",
              " [-0.23984692283545042,\n",
              "  -1.229850046861108,\n",
              "  1.0597469540745217,\n",
              "  0.40995001562203665],\n",
              " [0.4099500156170711,\n",
              "  1.0597469540749773,\n",
              "  -1.2298500468562157,\n",
              "  -0.2398469228358329],\n",
              " [1.0597469540749773,\n",
              "  0.4099500156215811,\n",
              "  -0.23984692283583287,\n",
              "  -1.2298500468607256]]"
            ]
          },
          "metadata": {},
          "execution_count": 11
        }
      ]
    },
    {
      "cell_type": "code",
      "source": [
        "import numpy as np\n",
        "\n",
        "global_matrix = np.zeros((len(nodes), len(nodes))) #creo la matriz global de NxN"
      ],
      "metadata": {
        "id": "ZORDjoxM43os"
      },
      "execution_count": null,
      "outputs": []
    },
    {
      "cell_type": "code",
      "source": [
        "#funcion para agregar los valores de una fila de una matriz local a la matriz global\n",
        "#row_num es el nodo global al cual corresponden los valores locales osea si la matriz global es para los nodos [10, 14, 5] la primera fila en la matriz\n",
        "#local corresponde a la fila 10 de la matriz global\n",
        "#values es la fila de la matriz local que queremos agregar y nodes_global son los indices globales de los nodos locales\n",
        "def add_row_to_global(global_matrix, row_num, values, nodes_global):\n",
        "  for i, node in enumerate(nodes_global):\n",
        "    global_matrix[row_num-1][node-1] += values[i]"
      ],
      "metadata": {
        "id": "cr1wLFoe9yMk"
      },
      "execution_count": null,
      "outputs": []
    },
    {
      "cell_type": "code",
      "source": [
        "#aca recorremos todos los elementos, calculando sus matrices locales y agregando sus valores a la matriz global\n",
        "%%timeit\n",
        "for element in elements:\n",
        "  nodes_global = element.get_connectivity()\n",
        "  local_matrix = calculate_local_matrix(element, nodes)\n",
        "  for i, node in enumerate(nodes_global):\n",
        "    add_row_to_global(global_matrix, node, local_matrix[i], nodes_global)"
      ],
      "metadata": {
        "id": "578UwmqA5mHa",
        "colab": {
          "base_uri": "https://localhost:8080/"
        },
        "outputId": "b411f334-44e7-40dc-969d-cec2dc18f633"
      },
      "execution_count": null,
      "outputs": [
        {
          "output_type": "stream",
          "name": "stdout",
          "text": [
            "41.8 ms ± 12.8 ms per loop (mean ± std. dev. of 7 runs, 10 loops each)\n"
          ]
        }
      ]
    },
    {
      "cell_type": "code",
      "source": [
        "global_matrix[1]"
      ],
      "metadata": {
        "id": "Cm_2KnknF7AB",
        "colab": {
          "base_uri": "https://localhost:8080/"
        },
        "outputId": "67a80ac4-e838-4a2b-974a-2d213dec221b"
      },
      "execution_count": null,
      "outputs": [
        {
          "output_type": "execute_result",
          "data": {
            "text/plain": [
              "array([  0.        , -99.6178538 ,   0.        ,   0.        ,\n",
              "         0.        ,   0.        ,   0.        ,   0.        ,\n",
              "         0.        ,   0.        ,   0.        ,   0.        ,\n",
              "         0.        ,   0.        ,   0.        ,   0.        ,\n",
              "         0.        ,   0.        ,   0.        ,   0.        ,\n",
              "         0.        ,   0.        ,   0.        ,   0.        ,\n",
              "         0.        ,   0.        ,   0.        ,   0.        ,\n",
              "         0.        ,   0.        ,   0.        ,   0.        ,\n",
              "         0.        ,   0.        ,   0.        ,   0.        ,\n",
              "         0.        ,   0.        ,   0.        ,   0.        ,\n",
              "         0.        ,   0.        ,   0.        ,   0.        ,\n",
              "         0.        ,   0.        ,   0.        ,   0.        ,\n",
              "         0.        ,   0.        ,   0.        ,   0.        ,\n",
              "         0.        ,   0.        ,   0.        ,   0.        ,\n",
              "         0.        ,   0.        ,   0.        ,   0.        ,\n",
              "         0.        ,   0.        ,   0.        ,   0.        ,\n",
              "         0.        ,   0.        ,   0.        ,   0.        ,\n",
              "         0.        ,   0.        ,   0.        ,   0.        ,\n",
              "         0.        ,   0.        ,   0.        ,   0.        ,\n",
              "         0.        ,   0.        ,   0.        ,   0.        ,\n",
              "         0.        ,   0.        ,   0.        ,   0.        ,\n",
              "         0.        ,   0.        , -19.42760075,  85.83950328,\n",
              "         0.        ,   0.        ,   0.        ,   0.        ,\n",
              "         0.        ,   0.        ,   0.        ,   0.        ,\n",
              "         0.        ,   0.        ,   0.        ,   0.        ,\n",
              "         0.        ,   0.        ,   0.        ,   0.        ,\n",
              "         0.        ,   0.        ,  33.20595127,   0.        ,\n",
              "         0.        ,   0.        ,   0.        ,   0.        ,\n",
              "         0.        ,   0.        ,   0.        ,   0.        ,\n",
              "         0.        ,   0.        ,   0.        ,   0.        ,\n",
              "         0.        ,   0.        ,   0.        ,   0.        ,\n",
              "         0.        ,   0.        ,   0.        ,   0.        ,\n",
              "         0.        ,   0.        ,   0.        ,   0.        ,\n",
              "         0.        ,   0.        ,   0.        ,   0.        ,\n",
              "         0.        ,   0.        ,   0.        ,   0.        ,\n",
              "         0.        ,   0.        ,   0.        ,   0.        ,\n",
              "         0.        ,   0.        ,   0.        ,   0.        ,\n",
              "         0.        ,   0.        ,   0.        ,   0.        ,\n",
              "         0.        ,   0.        ,   0.        ,   0.        ,\n",
              "         0.        ,   0.        ,   0.        ,   0.        ,\n",
              "         0.        ,   0.        ,   0.        ,   0.        ])"
            ]
          },
          "metadata": {},
          "execution_count": 15
        }
      ]
    },
    {
      "cell_type": "code",
      "source": [
        "#esta funcion sirve para saber si un nodo pertenece a cierto borde segun su posicion\n",
        "def is_border(node, xMin, xMax, yMin, yMax):\n",
        "  pos = node.get_coordinates()\n",
        "  if pos[0] > xMax or pos[0] < xMin:\n",
        "    return False\n",
        "  if pos[1] > yMax or pos[1] < yMin:\n",
        "    return False\n",
        "  return True"
      ],
      "metadata": {
        "id": "IOchcYgLW_2a"
      },
      "execution_count": null,
      "outputs": []
    },
    {
      "cell_type": "code",
      "source": [
        "#aca generamos listas de los nodos que estan en los bordes para despues definir las condiciones de borde\n",
        "border_g1 = filter(lambda node: is_border(node, -100, 1000, 599, 601), nodes)\n",
        "\n",
        "border_t2 = filter(lambda node: is_border(node, -100, 1000, -1, 1), nodes)\n",
        "\n",
        "border_t3_1 = filter(lambda node: is_border(node, -1, 1, -1000, 1000), nodes)\n",
        "border_t3_2 = filter(lambda node: is_border(node, -1, 107, 32, 34), nodes)\n",
        "border_t3_3 = filter(lambda node: is_border(node, -1, 107, 566, 568), nodes)\n",
        "border_t3_4 = filter(lambda node: is_border(node, 96, 98, 32, 568), nodes)\n",
        "border_t3 = list(border_t3_1) + list(border_t3_2) + list(border_t3_3) + list(border_t3_4)\n",
        "\n",
        "border_t1_1 = filter(lambda node: is_border(node, 214, 216, -1000, 1000), nodes)\n",
        "border_t1_2 = filter(lambda node: is_border(node, 107.6, 216, 32, 34), nodes)\n",
        "border_t1_3 = filter(lambda node: is_border(node, 107.6, 216, 566, 568), nodes)\n",
        "border_t1_4 = filter(lambda node: is_border(node, 117, 118, 32, 568), nodes)\n",
        "border_t1 = list(border_t1_1) + list(border_t1_2) + list(border_t1_3) + list(border_t1_4)"
      ],
      "metadata": {
        "id": "El4VP-3UYq1f"
      },
      "execution_count": null,
      "outputs": []
    },
    {
      "cell_type": "code",
      "source": [
        "def eliminate_repeated_nodes(node_list):\n",
        "  seen = []\n",
        "  r = []\n",
        "  for node in node_list:\n",
        "    id = node.get_tag()\n",
        "    if not id in seen:\n",
        "      r.append(node)\n",
        "    seen.append(id)\n",
        "  return r"
      ],
      "metadata": {
        "id": "SmaGFx5hhuTt"
      },
      "execution_count": null,
      "outputs": []
    },
    {
      "cell_type": "code",
      "source": [
        "border_t1 = eliminate_repeated_nodes(border_t1)\n",
        "border_t3 = eliminate_repeated_nodes(border_t3)"
      ],
      "metadata": {
        "id": "ghOAPgK4imN3"
      },
      "execution_count": null,
      "outputs": []
    },
    {
      "cell_type": "code",
      "source": [
        "for node in border_t1_1:\n",
        "  print(node.get_tag())"
      ],
      "metadata": {
        "id": "FYnV8CRL26L_"
      },
      "execution_count": null,
      "outputs": []
    },
    {
      "cell_type": "code",
      "source": [
        "#esto es para plotear cualquier grupo de nodos\n",
        "#usado para comprobar que se hayan separado bien los bordes correnspondientes\n",
        "from matplotlib import pyplot as plt\n",
        "x_plot = []\n",
        "y_plot = []\n",
        "\n",
        "for node in border_t1:\n",
        "#for node in nodes[97:103]:\n",
        "  coord = node.get_coordinates()\n",
        "  x_plot.append(coord[0])\n",
        "  y_plot.append(coord[1])\n",
        "#for node in list(border_t1_2):\n",
        "#for node in nodes[97:103]:\n",
        "#  coord = node.get_coordinates()\n",
        "#  x_plot.append(coord[0])\n",
        "#  y_plot.append(coord[1])\n",
        "plt.scatter(x_plot,y_plot)\n",
        "plt.scatter(x_plot,y_plot)\n",
        "plt.xlim([-250, 450])\n",
        "plt.ylim([-50, 650])\n",
        "plt.show()"
      ],
      "metadata": {
        "id": "wPbIQaoLaLs3",
        "colab": {
          "base_uri": "https://localhost:8080/",
          "height": 265
        },
        "outputId": "d20918e3-0113-4dfd-92ab-484aa1a053f7"
      },
      "execution_count": null,
      "outputs": [
        {
          "output_type": "display_data",
          "data": {
            "text/plain": [
              "<Figure size 432x288 with 1 Axes>"
            ],
            "image/png": "[encoded data removed]"
          },
          "metadata": {
            "needs_background": "light"
          }
        }
      ]
    },
    {
      "cell_type": "code",
      "source": [
        "#funcion para aplicar la condicion de neumman a un conjunto de nodos\n",
        "#por cada nodo se aplicara el valor recivido al vector independiente(b)\n",
        "# y en la matriz global se remplazara su fila por todos zeros y un 1 en la diagonal\n",
        "def apply_cond_neumman(border_nodes, value, global_matrix, b):\n",
        "  for node in border_nodes:\n",
        "    id = node.get_tag()\n",
        "    b[id-1] = value\n",
        "    global_matrix[id-1] = np.zeros(len(b))\n",
        "    global_matrix[id-1][id-1] = 1\n",
        "  return global_matrix, b"
      ],
      "metadata": {
        "id": "K50crEuvIlEW"
      },
      "execution_count": null,
      "outputs": []
    },
    {
      "cell_type": "code",
      "source": [
        "b = np.zeros(len(nodes)) #creo el vector independiente, lo inicializo en zero"
      ],
      "metadata": {
        "id": "y9xNn2nKIPS2"
      },
      "execution_count": null,
      "outputs": []
    },
    {
      "cell_type": "code",
      "source": [
        "#aplico las condiciones de borde del problema\n",
        "#para timearlo no podemos asignar a las variables globales\n",
        "def apply_conds(global_matrix, b, border_t1, border_t2, border_t3):\n",
        "  global_matrix, b = apply_cond_neumman(border_t1, 18, global_matrix, b)\n",
        "  global_matrix, b = apply_cond_neumman(border_t2, 20, global_matrix, b)\n",
        "  global_matrix, b = apply_cond_neumman(border_t3, 16, global_matrix, b)\n",
        "  return global_matrix, b"
      ],
      "metadata": {
        "id": "YyaHt1SjKWw4"
      },
      "execution_count": null,
      "outputs": []
    },
    {
      "cell_type": "code",
      "source": [
        "%%timeit\n",
        "_global_matrix, _b = apply_conds(global_matrix, b, border_t1, border_t2, border_t3)"
      ],
      "metadata": {
        "colab": {
          "base_uri": "https://localhost:8080/"
        },
        "id": "qfPheR_uaBgR",
        "outputId": "be273679-4c17-4ca0-ca21-7295a1f0b9a0"
      },
      "execution_count": null,
      "outputs": [
        {
          "output_type": "stream",
          "name": "stdout",
          "text": [
            "172 µs ± 18.9 µs per loop (mean ± std. dev. of 7 runs, 10000 loops each)\n"
          ]
        }
      ]
    },
    {
      "cell_type": "code",
      "source": [
        "global_matrix, b = apply_conds(global_matrix, b, border_t1, border_t2, border_t3)"
      ],
      "metadata": {
        "id": "tV6KlDz8QtfZ"
      },
      "execution_count": null,
      "outputs": []
    },
    {
      "cell_type": "code",
      "source": [
        "b"
      ],
      "metadata": {
        "id": "TPJiHEHeLWw2",
        "colab": {
          "base_uri": "https://localhost:8080/"
        },
        "outputId": "590dffd2-39f7-48ae-d6d0-63ed50c486cf"
      },
      "execution_count": null,
      "outputs": [
        {
          "output_type": "execute_result",
          "data": {
            "text/plain": [
              "array([16., 16., 16., 16., 16., 16., 20., 18., 18., 18., 18., 18., 20.,\n",
              "        0., 20.,  0.,  0.,  0.,  0.,  0.,  0.,  0.,  0., 18., 18., 18.,\n",
              "       18., 18., 18., 18., 18., 18., 18., 18., 18., 18., 18., 18., 18.,\n",
              "       18., 18., 18., 18., 18., 18., 18., 18., 18., 18., 18., 18., 18.,\n",
              "       18., 20., 20., 20., 20., 20., 20., 20., 16., 16., 16., 16., 16.,\n",
              "       16., 16., 16., 16., 16., 16., 16., 16., 16., 16., 16., 16., 16.,\n",
              "       16., 16., 16., 16., 16., 16., 16., 16., 16., 16., 16., 16.,  0.,\n",
              "        0.,  0.,  0.,  0.,  0.,  0.,  0.,  0.,  0.,  0.,  0.,  0.,  0.,\n",
              "        0.,  0.,  0.,  0.,  0.,  0.,  0.,  0.,  0.,  0.,  0.,  0.,  0.,\n",
              "        0.,  0.,  0.,  0.,  0.,  0.,  0.,  0.,  0.,  0.,  0.,  0.,  0.,\n",
              "        0.,  0.,  0.,  0.,  0.,  0.,  0.,  0.,  0.,  0.,  0.,  0.,  0.,\n",
              "        0.,  0.,  0.,  0.,  0.,  0.,  0.,  0.,  0.,  0.,  0.,  0.,  0.,\n",
              "        0.,  0.,  0.,  0.,  0.,  0.,  0.,  0.])"
            ]
          },
          "metadata": {},
          "execution_count": 26
        }
      ]
    },
    {
      "cell_type": "code",
      "source": [
        "global_matrix"
      ],
      "metadata": {
        "id": "4xKjorTvLfAG",
        "colab": {
          "base_uri": "https://localhost:8080/"
        },
        "outputId": "c743748c-6a77-4f5c-da00-8691ba05401b"
      },
      "execution_count": null,
      "outputs": [
        {
          "output_type": "execute_result",
          "data": {
            "text/plain": [
              "array([[   1.        ,    0.        ,    0.        , ...,    0.        ,\n",
              "           0.        ,    0.        ],\n",
              "       [   0.        ,    1.        ,    0.        , ...,    0.        ,\n",
              "           0.        ,    0.        ],\n",
              "       [   0.        ,    0.        ,    1.        , ...,    0.        ,\n",
              "           0.        ,    0.        ],\n",
              "       ...,\n",
              "       [   0.        ,    0.        ,    0.        , ..., -370.60989905,\n",
              "         -31.50708055,    0.        ],\n",
              "       [   0.        ,    0.        ,    0.        , ...,  -31.50708055,\n",
              "        -370.60989905,  -31.50708055],\n",
              "       [   0.        ,    0.        ,    0.        , ...,    0.        ,\n",
              "         -31.50708055, -370.60989905]])"
            ]
          },
          "metadata": {},
          "execution_count": 27
        }
      ]
    },
    {
      "cell_type": "code",
      "source": [
        "#resuelvo el sistema de ecuaciones de tipo Ax=b siendo A la matriz global\n",
        "x = np.linalg.solve(global_matrix, b)\n",
        "x"
      ],
      "metadata": {
        "id": "XFleThv0LheA",
        "colab": {
          "base_uri": "https://localhost:8080/"
        },
        "outputId": "0e3da14a-cc3f-4882-eafa-3c23ec6470bf"
      },
      "execution_count": null,
      "outputs": [
        {
          "output_type": "execute_result",
          "data": {
            "text/plain": [
              "array([16.        , 16.        , 16.        , 16.        , 16.        ,\n",
              "       16.        , 20.        , 18.        , 18.        , 18.        ,\n",
              "       18.        , 18.        , 20.        , 16.70168476, 20.        ,\n",
              "       17.29831524, 16.0196284 , 16.07095661, 16.23927102, 17.        ,\n",
              "       17.76072898, 17.92904339, 17.9803716 , 18.        , 18.        ,\n",
              "       18.        , 18.        , 18.        , 18.        , 18.        ,\n",
              "       18.        , 18.        , 18.        , 18.        , 18.        ,\n",
              "       18.        , 18.        , 18.        , 18.        , 18.        ,\n",
              "       18.        , 18.        , 18.        , 18.        , 18.        ,\n",
              "       18.        , 18.        , 18.        , 18.        , 18.        ,\n",
              "       18.        , 18.        , 18.        , 20.        , 20.        ,\n",
              "       20.        , 20.        , 20.        , 20.        , 20.        ,\n",
              "       16.        , 16.        , 16.        , 16.        , 16.        ,\n",
              "       16.        , 16.        , 16.        , 16.        , 16.        ,\n",
              "       16.        , 16.        , 16.        , 16.        , 16.        ,\n",
              "       16.        , 16.        , 16.        , 16.        , 16.        ,\n",
              "       16.        , 16.        , 16.        , 16.        , 16.        ,\n",
              "       16.        , 16.        , 16.        , 16.        , 16.        ,\n",
              "       16.6801319 , 16.60275564, 16.42004536, 17.        , 17.57995464,\n",
              "       17.39724436, 17.3198681 , 17.26593133, 18.25433024, 19.14412618,\n",
              "       19.38213939, 18.79911351, 18.30562355, 17.27358509, 16.01815839,\n",
              "       16.01392913, 16.0074552 , 16.06540331, 16.04997766, 16.0278009 ,\n",
              "       16.22091048, 16.16650668, 16.08246307, 17.        , 17.        ,\n",
              "       17.        , 17.77908952, 17.83349332, 17.91753693, 17.93459669,\n",
              "       17.95002234, 17.9721991 , 17.98184161, 17.98607087, 17.9925448 ,\n",
              "       18.49671321, 18.98695126, 19.49012492, 18.49889231, 19.00016729,\n",
              "       19.48994131, 18.42620738, 18.90869883, 19.52459084, 17.83730014,\n",
              "       18.53824441, 19.26615001, 16.75394974, 17.58971388, 18.6144122 ,\n",
              "       16.98040391, 17.97557098, 18.99297164, 17.00194587, 18.01580094,\n",
              "       19.01259768, 17.        , 17.        , 17.        , 17.        ,\n",
              "       17.        , 17.        , 17.        , 17.        , 17.        ,\n",
              "       17.        , 17.        , 16.99999999, 17.00000011, 16.99999874,\n",
              "       17.00001471, 16.99982818, 17.00200642, 16.97657083])"
            ]
          },
          "metadata": {},
          "execution_count": 28
        }
      ]
    },
    {
      "cell_type": "code",
      "source": [
        "%%timeit\n",
        "np.linalg.solve(global_matrix, b)"
      ],
      "metadata": {
        "colab": {
          "base_uri": "https://localhost:8080/"
        },
        "id": "c85LQnmYaTMP",
        "outputId": "d9cdc453-9a7c-4fe1-e916-be3fe0edd7a3"
      },
      "execution_count": null,
      "outputs": [
        {
          "output_type": "stream",
          "name": "stdout",
          "text": [
            "207 µs ± 31.4 µs per loop (mean ± std. dev. of 7 runs, 10000 loops each)\n"
          ]
        }
      ]
    },
    {
      "cell_type": "code",
      "source": [
        "#temperaturas resultantes segun el nodo\n",
        "#usado para generar el nodeData en el .msh\n",
        "print(len(nodes))\n",
        "for i, temp in enumerate(x):\n",
        "  print(f\"{i+1} {temp}\")"
      ],
      "metadata": {
        "id": "7mntWPfVSKm2",
        "colab": {
          "base_uri": "https://localhost:8080/"
        },
        "outputId": "3785197e-dad0-4827-b91e-af1df7b4756f"
      },
      "execution_count": null,
      "outputs": [
        {
          "output_type": "stream",
          "name": "stdout",
          "text": [
            "164\n",
            "1 16.000000000000163\n",
            "2 16.000000000000043\n",
            "3 15.999999999999728\n",
            "4 16.00000000000001\n",
            "5 16.000000000000508\n",
            "6 16.000000000000007\n",
            "7 19.999999999999446\n",
            "8 17.99999999999998\n",
            "9 18.00000000000001\n",
            "10 18.000000000000238\n",
            "11 17.999999999999552\n",
            "12 18.00000000000016\n",
            "13 20.000000000000096\n",
            "14 16.701684758833956\n",
            "15 19.999999999999968\n",
            "16 17.298315241167522\n",
            "17 16.019628396989972\n",
            "18 16.07095660942601\n",
            "19 16.239271015394678\n",
            "20 17.000000000000725\n",
            "21 17.760728984605986\n",
            "22 17.929043390575007\n",
            "23 17.980371603010926\n",
            "24 17.999999999999783\n",
            "25 17.999999999999833\n",
            "26 17.999999999999833\n",
            "27 17.999999999999925\n",
            "28 18.000000000000075\n",
            "29 17.99999999999998\n",
            "30 17.99999999999999\n",
            "31 18.000000000000014\n",
            "32 18.000000000000007\n",
            "33 18.000000000000004\n",
            "34 17.999999999999993\n",
            "35 17.999999999999993\n",
            "36 17.999999999999968\n",
            "37 18.000000000000004\n",
            "38 18.000000000000007\n",
            "39 18.000000000000004\n",
            "40 18.000000000000036\n",
            "41 17.99999999999997\n",
            "42 18.00000000000001\n",
            "43 18.000000000000036\n",
            "44 18.000000000000004\n",
            "45 18.0\n",
            "46 18.000000000000014\n",
            "47 17.999999999999993\n",
            "48 17.999999999999968\n",
            "49 18.000000000000014\n",
            "50 17.999999999999982\n",
            "51 18.000000000000043\n",
            "52 18.00000000000003\n",
            "53 18.0\n",
            "54 20.000000000000043\n",
            "55 19.99999999999999\n",
            "56 20.00000000000007\n",
            "57 20.0000000000002\n",
            "58 20.000000000000004\n",
            "59 20.000000000000114\n",
            "60 20.000000000000043\n",
            "61 15.999999999999979\n",
            "62 15.999999999999796\n",
            "63 16.0\n",
            "64 15.999999999999856\n",
            "65 16.000000000000018\n",
            "66 16.000000000000004\n",
            "67 16.0\n",
            "68 16.0\n",
            "69 16.0\n",
            "70 16.0\n",
            "71 16.0\n",
            "72 16.0\n",
            "73 16.0\n",
            "74 16.0\n",
            "75 16.0\n",
            "76 15.999999999999982\n",
            "77 15.99999999999999\n",
            "78 15.99999999999999\n",
            "79 15.999999999999968\n",
            "80 16.000000000000007\n",
            "81 15.999999999999996\n",
            "82 16.0\n",
            "83 15.999999999999957\n",
            "84 15.999999999999904\n",
            "85 15.999999999999947\n",
            "86 16.000000000000394\n",
            "87 16.000000000000725\n",
            "88 16.00000000000005\n",
            "89 15.999999999999757\n",
            "90 16.000000000000284\n",
            "91 16.6801319034956\n",
            "92 16.60275563589479\n",
            "93 16.42004536191411\n",
            "94 17.00000000000013\n",
            "95 17.579954638086644\n",
            "96 17.397244364106466\n",
            "97 17.319868096505868\n",
            "98 17.26593132567536\n",
            "99 18.25433024491348\n",
            "100 19.144126184279106\n",
            "101 19.382139389587568\n",
            "102 18.799113508731242\n",
            "103 18.305623547979177\n",
            "104 17.273585085223747\n",
            "105 16.0181583944912\n",
            "106 16.013929128023722\n",
            "107 16.007455201925012\n",
            "108 16.065403309706298\n",
            "109 16.049977657407904\n",
            "110 16.02780090218383\n",
            "111 16.220910482227115\n",
            "112 16.166506681394594\n",
            "113 16.082463066332352\n",
            "114 17.000000000000686\n",
            "115 17.00000000000056\n",
            "116 17.000000000000348\n",
            "117 17.779089517773777\n",
            "118 17.833493318606198\n",
            "119 17.91753693366818\n",
            "120 17.934596690294992\n",
            "121 17.95002234259343\n",
            "122 17.972199097817235\n",
            "123 17.981841605509814\n",
            "124 17.98607087197737\n",
            "125 17.99254479807593\n",
            "126 18.496713211361946\n",
            "127 18.986951259142533\n",
            "128 19.49012492110868\n",
            "129 18.498892310761974\n",
            "130 19.00016728590448\n",
            "131 19.48994130576494\n",
            "132 18.42620738030946\n",
            "133 18.908698834104534\n",
            "134 19.524590835454834\n",
            "135 17.837300144072724\n",
            "136 18.538244411934844\n",
            "137 19.26615001375513\n",
            "138 16.753949742920966\n",
            "139 17.589713876359518\n",
            "140 18.614412196091973\n",
            "141 16.980403911625537\n",
            "142 17.975570976511147\n",
            "143 18.99297164196355\n",
            "144 17.00194586927837\n",
            "145 18.01580094076093\n",
            "146 19.0125976788094\n",
            "147 16.99999999999994\n",
            "148 16.999999999999932\n",
            "149 17.000000000000053\n",
            "150 16.99999999999996\n",
            "151 17.000000000000032\n",
            "152 16.99999999999999\n",
            "153 16.999999999999993\n",
            "154 16.999999999999517\n",
            "155 17.000000000005812\n",
            "156 16.999999999932243\n",
            "157 17.000000000791413\n",
            "158 16.9999999907585\n",
            "159 17.000000107914435\n",
            "160 16.999998739870453\n",
            "161 17.000014714673725\n",
            "162 16.999828175106884\n",
            "163 17.002006418518338\n",
            "164 16.976570826277367\n"
          ]
        }
      ]
    },
    {
      "cell_type": "code",
      "source": [
        "nodes[1].get_coordinates()"
      ],
      "metadata": {
        "colab": {
          "base_uri": "https://localhost:8080/"
        },
        "id": "U-jCMYADE9Wo",
        "outputId": "c07220f9-1c8e-44fa-f999-2e50cf6e3ec3"
      },
      "execution_count": null,
      "outputs": [
        {
          "output_type": "execute_result",
          "data": {
            "text/plain": [
              "(0.0, 567.0, 0.0)"
            ]
          },
          "metadata": {},
          "execution_count": 30
        }
      ]
    },
    {
      "cell_type": "code",
      "source": [
        "from matplotlib import path\n",
        "\n",
        "def find_element(coordinate):\n",
        "  for element in elements:\n",
        "    nodos = element.get_connectivity()\n",
        "    nodo1 = nodes[nodos[0]-1].get_coordinates()\n",
        "    nodo2 = nodes[nodos[1]-1].get_coordinates()\n",
        "    nodo3 = nodes[nodos[2]-1].get_coordinates()\n",
        "    nodo4 = nodes[nodos[3]-1].get_coordinates()\n",
        "    p = path.Path([(nodo1[0],nodo1[1]), (nodo2[0], nodo2[1]), (nodo3[0], nodo3[1]), (nodo4[0], nodo4[1])])\n",
        "    if p.contains_points([coordinate]):\n",
        "      return element\n",
        "  return None, None"
      ],
      "metadata": {
        "id": "iGY2JJ0pDzYV"
      },
      "execution_count": null,
      "outputs": []
    },
    {
      "cell_type": "code",
      "source": [
        "#Ejemplo\n",
        "coordenada = (110, 10)\n",
        "elemento = find_element(coordenada)\n",
        "elemento.get_connectivity()"
      ],
      "metadata": {
        "id": "ZS63NcvDEC1M",
        "colab": {
          "base_uri": "https://localhost:8080/"
        },
        "outputId": "ed61622f-ee59-4848-cfb6-ba0453df1099"
      },
      "execution_count": null,
      "outputs": [
        {
          "output_type": "execute_result",
          "data": {
            "text/plain": [
              "[102, 136, 137, 101]"
            ]
          },
          "metadata": {},
          "execution_count": 33
        }
      ]
    },
    {
      "cell_type": "code",
      "source": [
        "#para comprobar si el ejemplo funciona, el punto azul debería estar adentro del triangulo formado por los puntos rojos\n",
        "from matplotlib import pyplot as plt\n",
        "x_plot = []\n",
        "y_plot = []\n",
        "\n",
        "for node_id in elemento.get_connectivity():\n",
        "  node = nodes[node_id-1]\n",
        "  coord = node.get_coordinates()\n",
        "  x_plot.append(coord[0])\n",
        "  y_plot.append(coord[1])\n",
        "plt.scatter(x_plot,y_plot,color='red')\n",
        "plt.scatter([coordenada[0]],[coordenada[1]],color='blue')\n",
        "#agregar estas lineas si se quiere ver la ubicacion general del triangulo\n",
        "#plt.xlim([-250, 450])\n",
        "#plt.ylim([-50, 650])\n",
        "plt.show()"
      ],
      "metadata": {
        "colab": {
          "base_uri": "https://localhost:8080/",
          "height": 265
        },
        "id": "B5UHOcy0-_rp",
        "outputId": "d0624a18-0035-417d-e7de-618d6ad902f3"
      },
      "execution_count": null,
      "outputs": [
        {
          "output_type": "display_data",
          "data": {
            "text/plain": [
              "<Figure size 432x288 with 1 Axes>"
            ],
            "image/png": "[encoded data removed]"
          },
          "metadata": {
            "needs_background": "light"
          }
        }
      ]
    },
    {
      "cell_type": "code",
      "source": [
        "def calculate_T_point(point, element):\n",
        "  #calcula la T en un punto (x,y) usando las funciones de forma, ecuacion https://raw.githubusercontent.com/ArmandoCivini/AN2_TP2/main/tp2_pictures/temperatura_en_cualquier_punto.jpeg\n",
        "    nodes_global = element.get_connectivity()\n",
        "    node1 = nodes[nodes_global[0]-1]\n",
        "    node2 = nodes[nodes_global[1]-1]\n",
        "    node3 = nodes[nodes_global[2]-1]\n",
        "    node_1_pos = node1.get_coordinates()\n",
        "    node_2_pos = node2.get_coordinates()\n",
        "    node_3_pos = node3.get_coordinates()\n",
        "    node_1_T = x[nodes_global[0]-1]\n",
        "    node_2_T = x[nodes_global[1]-1]\n",
        "    node_3_T = x[nodes_global[2]-1]\n",
        "\n",
        "    xi = (((point[1] - node_1_pos[1]) * (node_3_pos[0] - node_1_pos[0]) - (node_3_pos[1] - node_1_pos[1]) * (point[0] - node_1_pos[0])) /\n",
        "        ((node_2_pos[1] - node_1_pos[1]) * (node_3_pos[0] - node_1_pos[0]) - (node_3_pos[1] - node_1_pos[1]) * (node_2_pos[0] - node_1_pos[0])))\n",
        "    eta = (((point[1] - node_1_pos[1]) * (node_2_pos[0] - node_1_pos[0]) - (node_2_pos[1] - node_1_pos[1]) * (point[0] - node_1_pos[0])) /\n",
        "        ((node_3_pos[1] - node_1_pos[1]) * (node_2_pos[0] - node_1_pos[0]) - (node_2_pos[1] - node_1_pos[1]) * (node_3_pos[0] - node_1_pos[0])))\n",
        "    \n",
        "    N1 = 1 - xi - eta\n",
        "    N2 = xi\n",
        "    N3 = eta\n",
        "\n",
        "    T = N1 * node_1_T + N2 * node_2_T + N3 * node_3_T\n",
        "\n",
        "    return T"
      ],
      "metadata": {
        "id": "KVcTX3UjYFlM"
      },
      "execution_count": null,
      "outputs": []
    },
    {
      "cell_type": "code",
      "source": [
        "#arma array de puntos en los que se va a calcular T para comparar error\n",
        "puntos = [None]*131\n",
        "for i in range (0, 21):\n",
        "  puntos[i] = [7+10*i, 11]\n",
        "for i in range (21, 42):\n",
        "  puntos[i] = [7+10*(i-21), 22]\n",
        "for i in range(42, 68):\n",
        " puntos[i] = [107, 40+20*(i-42)]\n",
        "for i in range (68, 89):\n",
        "  puntos[i] = [7+10*(i-68), 578]\n",
        "for i in range(89,110):\n",
        "  puntos[i] = [7+10*(i-89), 589]\n",
        "for i in range(110, 131):\n",
        "  puntos[i] = [7+10*(i-110), 600]\n",
        "\n",
        "import matplotlib.pyplot as plt\n",
        "import numpy as np\n",
        "\n",
        "puntos = np.array(puntos)\n",
        "\n",
        "plt.scatter(puntos[:,0], puntos[:,1])\n",
        "plt.show"
      ],
      "metadata": {
        "colab": {
          "base_uri": "https://localhost:8080/",
          "height": 282
        },
        "id": "z8ZWEQG5YL2_",
        "outputId": "fbcb13ab-1835-421d-8d50-07c5640cabd2"
      },
      "execution_count": null,
      "outputs": [
        {
          "output_type": "execute_result",
          "data": {
            "text/plain": [
              "<function matplotlib.pyplot.show(*args, **kw)>"
            ]
          },
          "metadata": {},
          "execution_count": 42
        },
        {
          "output_type": "display_data",
          "data": {
            "text/plain": [
              "<Figure size 432x288 with 1 Axes>"
            ],
            "image/png": "[encoded data removed]"
          },
          "metadata": {
            "needs_background": "light"
          }
        }
      ]
    },
    {
      "cell_type": "code",
      "source": [
        "i = 0\n",
        "temperaturas = [None]*131\n",
        "for punto in puntos:\n",
        "  elemento = find_element(punto)\n",
        "  temperaturas[i] = calculate_T_point(punto, elemento)\n",
        "  print(\"coor = %s, T = %s\" % (punto, temperaturas[i]))\n",
        "  i = i+1"
      ],
      "metadata": {
        "colab": {
          "base_uri": "https://localhost:8080/"
        },
        "id": "97bPzlTFZqBw",
        "outputId": "2e50c548-a1f2-4399-b602-2da8845d2e18"
      },
      "execution_count": null,
      "outputs": [
        {
          "output_type": "stream",
          "name": "stdout",
          "text": [
            "coor = [ 7 11], T = 16.255077623959334\n",
            "coor = [17 11], T = 16.619474229615513\n",
            "coor = [27 11], T = 17.362077820124025\n",
            "coor = [37 11], T = 18.039667443122116\n",
            "coor = [47 11], T = 18.457666925485377\n",
            "coor = [57 11], T = 18.66666666666783\n",
            "coor = [67 11], T = 18.66666666666988\n",
            "coor = [77 11], T = 18.666666666669876\n",
            "coor = [87 11], T = 18.66666666666988\n",
            "coor = [97 11], T = 18.666666666668064\n",
            "coor = [107  11], T = 18.952380952385404\n",
            "coor = [117  11], T = 19.333333333332597\n",
            "coor = [127  11], T = 19.333333333331378\n",
            "coor = [137  11], T = 19.33333333333136\n",
            "coor = [147  11], T = 19.333333333331364\n",
            "coor = [157  11], T = 19.333333333332476\n",
            "coor = [167  11], T = 19.249733436860772\n",
            "coor = [177  11], T = 19.040733695678224\n",
            "coor = [187  11], T = 18.71824821238647\n",
            "coor = [197  11], T = 18.346155189130428\n",
            "coor = [207  11], T = 18.14575864226189\n",
            "coor = [ 7 22], T = 16.25507762395933\n",
            "coor = [17 22], T = 16.619474229615506\n",
            "coor = [27 22], T = 16.620992548805837\n",
            "coor = [37 22], T = 16.77948401920102\n",
            "coor = [47 22], T = 17.197483501564278\n",
            "coor = [57 22], T = 17.333333333334906\n",
            "coor = [67 22], T = 17.333333333337237\n",
            "coor = [77 22], T = 17.333333333337528\n",
            "coor = [87 22], T = 17.333333333336025\n",
            "coor = [97 22], T = 17.333333333334032\n",
            "coor = [107  22], T = 17.952380952383177\n",
            "coor = [117  22], T = 18.66666666666636\n",
            "coor = [127  22], T = 18.666666666665133\n",
            "coor = [137  22], T = 18.666666666664092\n",
            "coor = [147  22], T = 18.666666666664128\n",
            "coor = [157  22], T = 18.66666666666556\n",
            "coor = [167  22], T = 18.619641724900823\n",
            "coor = [177  22], T = 18.41064198371827\n",
            "coor = [187  22], T = 18.310496274401522\n",
            "coor = [197  22], T = 18.310496274401522\n",
            "coor = [207  22], T = 18.14575864226189\n",
            "coor = [107  40], T = 16.952380952380953\n",
            "coor = [107  60], T = 16.952380952380956\n",
            "coor = [107  80], T = 16.95238095238095\n",
            "coor = [107 100], T = 16.95238095238095\n",
            "coor = [107 120], T = 16.95238095238095\n",
            "coor = [107 140], T = 16.952380952380953\n",
            "coor = [107 160], T = 16.952380952380953\n",
            "coor = [107 180], T = 16.95238095238095\n",
            "coor = [107 200], T = 16.95238095238095\n",
            "coor = [107 220], T = 16.95238095238095\n",
            "coor = [107 240], T = 16.952380952380953\n",
            "coor = [107 260], T = 16.95238095238095\n",
            "coor = [107 280], T = 16.952380952380953\n",
            "coor = [107 300], T = 16.952380952380953\n",
            "coor = [107 320], T = 16.952380952380953\n",
            "coor = [107 340], T = 16.952380952380953\n",
            "coor = [107 360], T = 16.952380952380953\n",
            "coor = [107 380], T = 16.952380952380953\n",
            "coor = [107 400], T = 16.95238095238095\n",
            "coor = [107 420], T = 16.952380952380953\n",
            "coor = [107 440], T = 16.952380952380953\n",
            "coor = [107 460], T = 16.952380952380953\n",
            "coor = [107 480], T = 16.952380952380953\n",
            "coor = [107 500], T = 16.95238095238095\n",
            "coor = [107 520], T = 16.952380952380956\n",
            "coor = [107 540], T = 16.95238095238096\n",
            "coor = [  7 578], T = 16.001025287049806\n",
            "coor = [ 17 578], T = 16.002489982835257\n",
            "coor = [ 27 578], T = 16.002496085734357\n",
            "coor = [ 37 578], T = 16.003133143777525\n",
            "coor = [ 47 578], T = 16.00481329685837\n",
            "coor = [ 57 578], T = 16.04778015632258\n",
            "coor = [ 67 578], T = 16.110625800340706\n",
            "coor = [ 77 578], T = 16.118413117885027\n",
            "coor = [ 87 578], T = 16.195390883285533\n",
            "coor = [ 97 578], T = 16.29757047591529\n",
            "coor = [107 578], T = 16.952380952381432\n",
            "coor = [117 578], T = 17.692211564827446\n",
            "coor = [127 578], T = 17.79439115746109\n",
            "coor = [137 578], T = 17.881586882126665\n",
            "coor = [147 578], T = 17.883089635268995\n",
            "coor = [157 578], T = 17.945935279283702\n",
            "coor = [167 578], T = 17.99501868783805\n",
            "coor = [177 578], T = 17.996698840917517\n",
            "coor = [187 578], T = 17.997503914268112\n",
            "coor = [197 578], T = 17.997503914268133\n",
            "coor = [207 578], T = 17.998828243372834\n",
            "coor = [  7 589], T = 16.001025287049803\n",
            "coor = [ 17 589], T = 16.00248998283525\n",
            "coor = [ 27 589], T = 16.00547488536158\n",
            "coor = [ 37 589], T = 16.008198463598003\n",
            "coor = [ 47 589], T = 16.009878616678847\n",
            "coor = [ 57 589], T = 16.04214151522879\n",
            "coor = [ 67 589], T = 16.119662397550066\n",
            "coor = [ 77 589], T = 16.302717645955095\n",
            "coor = [ 87 589], T = 16.485772894360124\n",
            "coor = [ 97 589], T = 16.595140951830565\n",
            "coor = [107 589], T = 16.9523809523819\n",
            "coor = [117 589], T = 17.39464108891825\n",
            "coor = [127 589], T = 17.496820681551885\n",
            "coor = [137 589], T = 17.678976829219618\n",
            "coor = [147 589], T = 17.8620320776249\n",
            "coor = [157 589], T = 17.9515739203814\n",
            "coor = [167 589], T = 17.989953368022157\n",
            "coor = [177 589], T = 17.991633521101626\n",
            "coor = [187 589], T = 17.994225988321432\n",
            "coor = [197 589], T = 17.997217251542708\n",
            "coor = [207 589], T = 17.998828243372778\n",
            "coor = [  7 600], T = 16.00209388425677\n",
            "coor = [ 17 600], T = 16.005085147480756\n",
            "coor = [ 27 600], T = 16.00807641070474\n",
            "coor = [ 37 600], T = 16.01106767392872\n",
            "coor = [ 47 600], T = 16.014058937152708\n",
            "coor = [ 57 600], T = 16.075570995561154\n",
            "coor = [ 67 600], T = 16.258626243966184\n",
            "coor = [ 77 600], T = 16.44168149237121\n",
            "coor = [ 87 600], T = 16.624736740776243\n",
            "coor = [ 97 600], T = 16.80779198918127\n",
            "coor = [107 600], T = 16.990847237586298\n",
            "coor = [117 600], T = 17.173902485991565\n",
            "coor = [127 600], T = 17.356957734396847\n",
            "coor = [137 600], T = 17.54001298280213\n",
            "coor = [147 600], T = 17.72306823120741\n",
            "coor = [157 600], T = 17.90612347961269\n",
            "coor = [167 600], T = 17.985641936537796\n",
            "coor = [177 600], T = 17.98863319975907\n",
            "coor = [187 600], T = 17.991624462980347\n",
            "coor = [197 600], T = 17.994615726201623\n",
            "coor = [207 600], T = 17.9976069894229\n"
          ]
        }
      ]
    },
    {
      "cell_type": "code",
      "source": [
        "#se consideran exactos los valores calculados en cada punto evaluado con la malla de 1572 elementos\n",
        "T_exacta = [17.232675812611106, \n",
        " 18.135670293662137,\n",
        " 18.47582668597356,\n",
        " 18.59634067882311,\n",
        " 18.640428592847385,\n",
        " 18.65995589360615,\n",
        " 18.672215037210464,\n",
        " 18.688909514278343,\n",
        " 18.723362302233717,\n",
        " 18.801510345769046,\n",
        " 18.92887075065431,\n",
        " 19.09372413238525,\n",
        " 19.221469443667935,\n",
        " 19.285144822789796,\n",
        " 19.311986674516334,\n",
        " 19.321765765036822,\n",
        " 19.31956350506018,\n",
        " 19.30347461007795,\n",
        " 19.252613693783793,\n",
        " 19.11896700832725,\n",
        " 18.7367504245236,\n",
        " 16.45743134454289,\n",
        " 16.92025208149983,\n",
        " 17.15916118257374,\n",
        " 17.266134422853668,\n",
        " 17.307365210063786,\n",
        " 17.326683322340152,\n",
        " 17.33884429003961,\n",
        " 17.35748611363683,\n",
        " 17.401524959944563,\n",
        " 17.526890764131394,\n",
        " 17.8104555557124,\n",
        " 18.25541590604929,\n",
        " 18.517055459009455,\n",
        " 18.61439315254071,\n",
        " 18.645540399062767,\n",
        " 18.654844574256394,\n",
        " 18.652507471101877,\n",
        " 18.637111379097718,\n",
        " 18.592077500753092,\n",
        " 18.4874679992114,\n",
        " 18.264550527740166,\n",
        " 16.719276675136705,\n",
        " 16.941269095524802,\n",
        " 16.95180439839527,\n",
        " 16.952351455409453,\n",
        " 16.952379472195236,\n",
        " 16.95238088002059,\n",
        " 16.952380948890777,\n",
        " 16.95238095219757,\n",
        " 16.95238095237134,\n",
        " 16.95238095238046,\n",
        " 16.952380952380924,\n",
        " 16.95238095238095,\n",
        " 16.952380952380953,\n",
        " 16.95238095238096,\n",
        " 16.952380952380956,\n",
        " 16.952380952380956,\n",
        " 16.952380952380977,\n",
        " 16.95238095238154,\n",
        " 16.952380952392225,\n",
        " 16.952380952596144,\n",
        " 16.95238095651292,\n",
        " 16.952381038118908,\n",
        " 16.952382707490685,\n",
        " 16.952416655966502,\n",
        " 16.953071613792094,\n",
        " 16.965685447838837,\n",
        " 16.0032028669079,\n",
        " 16.00852310134117,\n",
        " 16.015939190381214,\n",
        " 16.027134407226214,\n",
        " 16.044372909039982,\n",
        " 16.071309855506218,\n",
        " 16.116873787434805,\n",
        " 16.199122509721068,\n",
        " 16.35240081099205,\n",
        " 16.67702702588126,\n",
        " 17.209421644313288,\n",
        " 17.58642022065493,\n",
        " 17.773014657674786,\n",
        " 17.866093562891365,\n",
        " 17.918838042707428,\n",
        " 17.94968216777746,\n",
        " 17.96897471516412,\n",
        " 17.981130417318393,\n",
        " 17.988751015084905,\n",
        " 17.993857912422033,\n",
        " 17.997495093945304,\n",
        " 16.005587401933255,\n",
        " 16.01492205574001,\n",
        " 16.027633283883073,\n",
        " 16.04600947537872,\n",
        " 16.076144683073355,\n",
        " 16.123458114761615,\n",
        " 16.201349376422716,\n",
        " 16.320526469276206,\n",
        " 16.510946990635322,\n",
        " 16.793305439802303,\n",
        " 17.131471432928823,\n",
        " 17.42794007168338,\n",
        " 17.64076706913832,\n",
        " 17.775354257787196,\n",
        " 17.861350321403208,\n",
        " 17.913420289805977,\n",
        " 17.946410186971104,\n",
        " 17.96745850990043,\n",
        " 17.980506689869003,\n",
        " 17.98938373556868,\n",
        " 17.995716216008315,\n",
        " 16.00648472681643,\n",
        " 16.017269626807668,\n",
        " 16.03196703752086,\n",
        " 16.053800347920028,\n",
        " 16.088835837695896,\n",
        " 16.141964808722836,\n",
        " 16.229664376062836,\n",
        " 16.36221647433022,\n",
        " 16.55853160837449,\n",
        " 16.8194454415181,\n",
        " 17.114308290665324,\n",
        " 17.38479158086008,\n",
        " 17.598315846711063,\n",
        " 17.742851436527857,\n",
        " 17.839218479266833,\n",
        " 17.900099366614164,\n",
        " 17.938018539649544,\n",
        " 17.96249888556671,\n",
        " 17.977472990726817,\n",
        " 17.98773524055126,\n",
        " 17.995019157476246]"
      ],
      "metadata": {
        "id": "5WYCyg1h0Riv"
      },
      "execution_count": null,
      "outputs": []
    },
    {
      "cell_type": "code",
      "source": [
        "#devuelve error absoluto en cada punto evaluado\n",
        "def err_abs(temperaturas, T_exacta):\n",
        "  temperaturas = np.array(temperaturas)\n",
        "  T_exacta = np.array(T_exacta)\n",
        "  error_abs = abs(temperaturas - T_exacta)\n",
        "  return error_abs"
      ],
      "metadata": {
        "id": "tqp9QJhY0VzC"
      },
      "execution_count": null,
      "outputs": []
    },
    {
      "cell_type": "code",
      "source": [
        "err_abs(temperaturas, T_exacta)"
      ],
      "metadata": {
        "colab": {
          "base_uri": "https://localhost:8080/"
        },
        "id": "-pZR9M4G0ZTF",
        "outputId": "18d51d3f-f36e-4961-fa78-53ee1984e692"
      },
      "execution_count": null,
      "outputs": [
        {
          "output_type": "execute_result",
          "data": {
            "text/plain": [
              "array([9.77598189e-01, 1.51619606e+00, 1.11374887e+00, 5.56673236e-01,\n",
              "       1.82761667e-01, 6.71077306e-03, 5.54837054e-03, 2.22428476e-02,\n",
              "       5.66956356e-02, 1.34843679e-01, 2.35102017e-02, 2.39609201e-01,\n",
              "       1.11863890e-01, 4.81885105e-02, 2.13466588e-02, 1.15675683e-02,\n",
              "       6.98300682e-02, 2.62740914e-01, 5.34365481e-01, 7.72811819e-01,\n",
              "       5.90991782e-01, 2.02353721e-01, 3.00777852e-01, 5.38168634e-01,\n",
              "       4.86650404e-01, 1.09881708e-01, 6.65001099e-03, 5.51095670e-03,\n",
              "       2.41527803e-02, 6.81916266e-02, 1.93557431e-01, 1.41925397e-01,\n",
              "       4.11250761e-01, 1.49611208e-01, 5.22735141e-02, 2.11262676e-02,\n",
              "       1.18220924e-02, 3.28657462e-02, 2.26469395e-01, 2.81581226e-01,\n",
              "       1.76971725e-01, 1.18791885e-01, 2.33104277e-01, 1.11118569e-02,\n",
              "       5.76553986e-04, 2.94969715e-05, 1.48018571e-06, 7.23603613e-08,\n",
              "       3.49017526e-09, 1.83380422e-10, 9.61009050e-12, 4.90274488e-13,\n",
              "       2.84217094e-14, 0.00000000e+00, 0.00000000e+00, 7.10542736e-15,\n",
              "       3.55271368e-15, 3.55271368e-15, 2.48689958e-14, 5.86197757e-13,\n",
              "       1.12763132e-11, 2.15191420e-10, 4.13196588e-09, 8.57379554e-08,\n",
              "       1.75510973e-06, 3.57035856e-05, 6.90661411e-04, 1.33044955e-02,\n",
              "       2.17757986e-03, 6.03311851e-03, 1.34431046e-02, 2.40012634e-02,\n",
              "       3.95596122e-02, 2.35296992e-02, 6.24798709e-03, 8.07093918e-02,\n",
              "       1.57009928e-01, 3.79456550e-01, 2.57040692e-01, 1.05791344e-01,\n",
              "       2.13764998e-02, 1.54933192e-02, 3.57484074e-02, 3.74688849e-03,\n",
              "       2.60439727e-02, 1.55684236e-02, 8.75289918e-03, 3.64600185e-03,\n",
              "       1.33314943e-03, 4.56211488e-03, 1.24320729e-02, 2.21583985e-02,\n",
              "       3.78110118e-02, 6.62660664e-02, 8.13165995e-02, 8.16869789e-02,\n",
              "       1.78088233e-02, 2.51740963e-02, 1.98164488e-01, 1.79090481e-01,\n",
              "       3.32989828e-02, 1.43946388e-01, 9.63774286e-02, 6.81756222e-04,\n",
              "       3.81536306e-02, 4.35431811e-02, 2.41750112e-02, 1.37192985e-02,\n",
              "       7.83351597e-03, 3.11202736e-03, 4.39084256e-03, 1.21844793e-02,\n",
              "       2.38906268e-02, 4.27326740e-02, 7.47769005e-02, 6.63938132e-02,\n",
              "       2.89618679e-02, 7.94650180e-02, 6.62051324e-02, 1.16534523e-02,\n",
              "       1.23461053e-01, 2.10889095e-01, 2.41358112e-01, 2.02838454e-01,\n",
              "       1.16150248e-01, 6.02411300e-03, 4.76233969e-02, 2.61343142e-02,\n",
              "       1.41514723e-02, 6.88048565e-03, 2.58783195e-03])"
            ]
          },
          "metadata": {},
          "execution_count": 46
        }
      ]
    },
    {
      "cell_type": "code",
      "source": [
        "#error cuadratico medio\n",
        "def ecm(temperaturas, T_exacta):\n",
        "  temperaturas = np.array(temperaturas)\n",
        "  T_exacta = np.array(T_exacta)\n",
        "  n = len(temperaturas)\n",
        "  ecm = (sum((temperaturas - T_exacta) ** 2)) / n\n",
        "  return ecm "
      ],
      "metadata": {
        "id": "yeJTdQi50daa"
      },
      "execution_count": null,
      "outputs": []
    },
    {
      "cell_type": "code",
      "source": [
        "ecm(temperaturas, T_exacta)"
      ],
      "metadata": {
        "colab": {
          "base_uri": "https://localhost:8080/"
        },
        "id": "IpjmQcnU0f67",
        "outputId": "effda3e0-da74-4055-8878-f7820ebf991e"
      },
      "execution_count": null,
      "outputs": [
        {
          "output_type": "execute_result",
          "data": {
            "text/plain": [
              "0.060953001622315046"
            ]
          },
          "metadata": {},
          "execution_count": 48
        }
      ]
    },
    {
      "cell_type": "code",
      "source": [
        "#error relativo\n",
        "err_abs(temperaturas, T_exacta) / np.array(T_exacta)"
      ],
      "metadata": {
        "colab": {
          "base_uri": "https://localhost:8080/"
        },
        "id": "a6ZLQH9FtdrI",
        "outputId": "9794348b-fe34-496e-948a-17ff88ed3bc7"
      },
      "execution_count": null,
      "outputs": [
        {
          "output_type": "execute_result",
          "data": {
            "text/plain": [
              "array([5.67293321e-02, 8.36029791e-02, 6.02814090e-02, 2.99345578e-02,\n",
              "       9.80458504e-03, 3.59634991e-04, 2.97145814e-04, 1.19016295e-03,\n",
              "       3.02806914e-03, 7.17195994e-03, 1.24202875e-03, 1.25491077e-02,\n",
              "       5.81973662e-03, 2.49873729e-03, 1.10535799e-03, 5.98680702e-04,\n",
              "       3.61447443e-03, 1.36110685e-02, 2.77554773e-02, 4.04212120e-02,\n",
              "       3.15418506e-02, 1.22955835e-02, 1.77762039e-02, 3.13633416e-02,\n",
              "       2.81852551e-02, 6.34884092e-03, 3.83801728e-04, 3.17838756e-04,\n",
              "       1.39149069e-03, 3.91871556e-03, 1.10434551e-02, 7.96865618e-03,\n",
              "       2.25276029e-02, 8.07964355e-03, 2.80823090e-03, 1.13304668e-03,\n",
              "       6.33727736e-04, 1.76200150e-03, 1.21515288e-02, 1.51452266e-02,\n",
              "       9.57252366e-03, 6.50395887e-03, 1.39422465e-02, 6.55904631e-04,\n",
              "       3.40113638e-05, 1.73999292e-06, 8.73143334e-08, 4.26844829e-09,\n",
              "       2.05881125e-10, 1.08173844e-11, 5.66887361e-13, 2.89206861e-14,\n",
              "       1.67656151e-15, 0.00000000e+00, 0.00000000e+00, 4.19140378e-16,\n",
              "       2.09570189e-16, 2.09570189e-16, 1.46699132e-15, 3.45790812e-14,\n",
              "       6.65175780e-13, 1.26938759e-11, 2.43739560e-10, 5.05757600e-09,\n",
              "       1.03531743e-07, 2.10610595e-06, 4.07396032e-05, 7.84200291e-04,\n",
              "       1.36071502e-04, 3.76869151e-04, 8.39357873e-04, 1.49753929e-03,\n",
              "       2.46563779e-03, 1.46408099e-03, 3.87667433e-04, 4.98233110e-03,\n",
              "       9.60164379e-03, 2.27532491e-02, 1.49360448e-02, 6.01551327e-03,\n",
              "       1.20275036e-03, 8.67191207e-04, 1.99501817e-03, 2.08744002e-04,\n",
              "       1.44938557e-03, 8.65820070e-04, 4.86576260e-04, 2.02624799e-04,\n",
              "       7.40741654e-05, 2.85032643e-04, 7.76280575e-04, 1.38251220e-03,\n",
              "       2.35641216e-03, 4.12201232e-03, 5.04337214e-03, 5.04198613e-03,\n",
              "       1.09119172e-03, 1.52469124e-03, 1.18002075e-02, 1.04538878e-02,\n",
              "       1.91066659e-03, 8.15987122e-03, 5.42196950e-03, 3.81693550e-05,\n",
              "       2.12989088e-03, 2.42628919e-03, 1.34548863e-03, 7.63009557e-04,\n",
              "       4.35452158e-04, 1.72931565e-04, 2.74316481e-04, 7.60708886e-04,\n",
              "       1.49018687e-03, 2.66184162e-03, 4.64775086e-03, 4.11311844e-03,\n",
              "       1.78450196e-03, 4.85661696e-03, 3.99824900e-03, 6.92855919e-04,\n",
              "       7.21390844e-03, 1.21306657e-02, 1.37148415e-02, 1.14321226e-02,\n",
              "       6.51094936e-03, 3.36540757e-04, 2.65488614e-03, 1.45493755e-03,\n",
              "       7.87178057e-04, 3.82509836e-04, 1.43808235e-04])"
            ]
          },
          "metadata": {},
          "execution_count": 51
        }
      ]
    }
  ]
}