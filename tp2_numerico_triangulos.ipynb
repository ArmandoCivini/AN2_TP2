{
  "nbformat": 4,
  "nbformat_minor": 0,
  "metadata": {
    "colab": {
      "provenance": []
    },
    "kernelspec": {
      "name": "python3",
      "display_name": "Python 3"
    },
    "language_info": {
      "name": "python"
    }
  },
  "cells": [
    {
      "cell_type": "code",
      "execution_count": null,
      "metadata": {
        "colab": {
          "base_uri": "https://localhost:8080/"
        },
        "id": "IDhug4WJmcxj",
        "outputId": "abcd982f-2c7b-4472-a7cb-37c6762edc2b"
      },
      "outputs": [
        {
          "output_type": "stream",
          "name": "stdout",
          "text": [
            "Looking in indexes: https://pypi.org/simple, https://us-python.pkg.dev/colab-wheels/public/simple/\n",
            "Collecting gmshparser\n",
            "  Downloading gmshparser-0.2.0-py3-none-any.whl (19 kB)\n",
            "Installing collected packages: gmshparser\n",
            "Successfully installed gmshparser-0.2.0\n"
          ]
        }
      ],
      "source": [
        "!pip install gmshparser"
      ]
    },
    {
      "cell_type": "code",
      "source": [
        "!git clone https://github.com/ArmandoCivini/AN2_TP2.git\n",
        "# si esto tira \"fatal: destination path 'AN2_TP2' already exists and is not an empty directory.\"\n",
        "#no pasa nada significa que el repo ya esta clonado\n",
        "#si actualizaste el repo y queres clonarlo devuelta solo hay que borrar la carpeta"
      ],
      "metadata": {
        "colab": {
          "base_uri": "https://localhost:8080/"
        },
        "id": "eaqT23_MBAWa",
        "outputId": "84ddb039-b7e2-4d7a-e956-103d4f7c1f79"
      },
      "execution_count": null,
      "outputs": [
        {
          "output_type": "stream",
          "name": "stdout",
          "text": [
            "Cloning into 'AN2_TP2'...\n",
            "remote: Enumerating objects: 28, done.\u001b[K\n",
            "remote: Counting objects: 100% (28/28), done.\u001b[K\n",
            "remote: Compressing objects: 100% (28/28), done.\u001b[K\n",
            "remote: Total 28 (delta 8), reused 0 (delta 0), pack-reused 0\u001b[K\n",
            "Unpacking objects: 100% (28/28), 204.34 KiB | 6.01 MiB/s, done.\n"
          ]
        }
      ]
    },
    {
      "cell_type": "code",
      "source": [
        "import gmshparser\n",
        "mesh = gmshparser.parse(\"AN2_TP2/ipn2.msh\") #para cambiar la malla hay que subirla al github y despues cambiar el nombre aca\n",
        "                                            #el path es diferente si lo estas corriendo local\n",
        "print(mesh)"
      ],
      "metadata": {
        "colab": {
          "base_uri": "https://localhost:8080/"
        },
        "id": "gYRQ4sWPmzog",
        "outputId": "05b7a0d0-bf16-4652-d48b-26be535ce251"
      },
      "execution_count": null,
      "outputs": [
        {
          "output_type": "stream",
          "name": "stdout",
          "text": [
            "Mesh name: AN2_TP2/ipn2.msh\n",
            "Mesh version: 4.1\n",
            "Number of nodes: 46\n",
            "Minimum node tag: 1\n",
            "Maximum node tag: 46\n",
            "Number of node entities: 21\n",
            "Number of elements: 52\n",
            "Minimum element tag: 1\n",
            "Maximum element tag: 52\n",
            "Number of element entities: 1\n"
          ]
        }
      ]
    },
    {
      "cell_type": "code",
      "source": [
        "cont = 0\n",
        "nodes = [] #aca guardo todos los nodos juntos para no tener que andar recorriendo entidades\n",
        "for entity in mesh.get_node_entities():\n",
        "    print(\"entidad: \" + str(cont))\n",
        "    cont += 1\n",
        "    for node in entity.get_nodes():\n",
        "        nid = node.get_tag()\n",
        "        ncoords = node.get_coordinates()\n",
        "        print(\"Node id = %s, node coordinates = %s\" % (nid, ncoords))\n",
        "        nodes.append(node)"
      ],
      "metadata": {
        "id": "zd4b43dNmzr0",
        "colab": {
          "base_uri": "https://localhost:8080/"
        },
        "outputId": "cf877923-74c7-41fc-cadd-b1688e3b49fd"
      },
      "execution_count": null,
      "outputs": [
        {
          "output_type": "stream",
          "name": "stdout",
          "text": [
            "entidad: 0\n",
            "Node id = 1, node coordinates = (0.0, 600.0, 0.0)\n",
            "entidad: 1\n",
            "Node id = 2, node coordinates = (215.0, 600.0, 0.0)\n",
            "entidad: 2\n",
            "Node id = 3, node coordinates = (215.0, 567.0, 0.0)\n",
            "entidad: 3\n",
            "Node id = 4, node coordinates = (118.0, 567.0, 0.0)\n",
            "entidad: 4\n",
            "Node id = 5, node coordinates = (118.0, 33.0, 0.0)\n",
            "entidad: 5\n",
            "Node id = 6, node coordinates = (215.0, 33.0, 0.0)\n",
            "entidad: 6\n",
            "Node id = 7, node coordinates = (215.0, 0.0, 0.0)\n",
            "entidad: 7\n",
            "Node id = 8, node coordinates = (0.0, 0.0, 0.0)\n",
            "entidad: 8\n",
            "Node id = 9, node coordinates = (0.0, 33.0, 0.0)\n",
            "entidad: 9\n",
            "Node id = 10, node coordinates = (97.0, 33.0, 0.0)\n",
            "entidad: 10\n",
            "Node id = 11, node coordinates = (97.0, 567.0, 0.0)\n",
            "entidad: 11\n",
            "Node id = 12, node coordinates = (0.0, 567.0, 0.0)\n",
            "entidad: 12\n",
            "Node id = 13, node coordinates = (53.74999999996011, 0.0, 0.0)\n",
            "Node id = 14, node coordinates = (107.4999999999299, 0.0, 0.0)\n",
            "Node id = 15, node coordinates = (161.2500000000329, 0.0, 0.0)\n",
            "entidad: 13\n",
            "Node id = 16, node coordinates = (166.5, 33.0, 0.0)\n",
            "entidad: 14\n",
            "Node id = 17, node coordinates = (118.0, 92.3333333333, 0.0)\n",
            "Node id = 18, node coordinates = (118.0, 151.6666666666028, 0.0)\n",
            "Node id = 19, node coordinates = (118.0, 210.9999999997132, 0.0)\n",
            "Node id = 20, node coordinates = (118.0, 270.3333333327028, 0.0)\n",
            "Node id = 21, node coordinates = (118.0, 329.6666666658784, 0.0)\n",
            "Node id = 22, node coordinates = (118.0, 388.9999999992588, 0.0)\n",
            "Node id = 23, node coordinates = (118.0, 448.3333333326392, 0.0)\n",
            "Node id = 24, node coordinates = (118.0, 507.6666666660196, 0.0)\n",
            "entidad: 15\n",
            "Node id = 25, node coordinates = (166.5, 567.0, 0.0)\n",
            "entidad: 16\n",
            "Node id = 26, node coordinates = (161.2500000000348, 600.0, 0.0)\n",
            "Node id = 27, node coordinates = (107.5000000000667, 600.0, 0.0)\n",
            "Node id = 28, node coordinates = (53.74999999996538, 600.0, 0.0)\n",
            "entidad: 17\n",
            "Node id = 29, node coordinates = (48.49999999984447, 567.0, 0.0)\n",
            "entidad: 18\n",
            "Node id = 30, node coordinates = (97.0, 507.6666666670737, 0.0)\n",
            "Node id = 31, node coordinates = (97.0, 448.333333333548, 0.0)\n",
            "Node id = 32, node coordinates = (97.0, 389.0000000005625, 0.0)\n",
            "Node id = 33, node coordinates = (97.0, 329.6666666676684, 0.0)\n",
            "Node id = 34, node coordinates = (97.0, 270.3333333343474, 0.0)\n",
            "Node id = 35, node coordinates = (97.0, 211.0000000008217, 0.0)\n",
            "Node id = 36, node coordinates = (97.0, 151.666666667296, 0.0)\n",
            "Node id = 37, node coordinates = (97.0, 92.33333333377016, 0.0)\n",
            "entidad: 19\n",
            "Node id = 38, node coordinates = (48.50000000005555, 33.0, 0.0)\n",
            "entidad: 20\n",
            "Node id = 39, node coordinates = (25.56250000000392, 16.5, 0.0)\n",
            "Node id = 40, node coordinates = (189.4375000000087, 583.5, 0.0)\n",
            "Node id = 41, node coordinates = (189.4375000000082, 16.5, 0.0)\n",
            "Node id = 42, node coordinates = (25.56249999995246, 583.5, 0.0)\n",
            "Node id = 43, node coordinates = (74.18494897953116, 581.3134276437327, 0.0)\n",
            "Node id = 44, node coordinates = (140.8150510204048, 18.68657235620315, 0.0)\n",
            "Node id = 45, node coordinates = (74.18494897960453, 18.68657235617748, 0.0)\n",
            "Node id = 46, node coordinates = (140.8150510204174, 581.3134276437975, 0.0)\n"
          ]
        }
      ]
    },
    {
      "cell_type": "code",
      "source": [
        "elements = [] #aca guardo todos los elementos juntos para no tener que andar recorriendo entidades\n",
        "for entity in mesh.get_element_entities():\n",
        "    eltype = entity.get_element_type()\n",
        "    print(\"Element type: %s\" % eltype)\n",
        "    if eltype != 2:\n",
        "      continue\n",
        "    for element in entity.get_elements():\n",
        "        elid = element.get_tag()\n",
        "        elcon = element.get_connectivity()\n",
        "        print(\"Element id = %s, connectivity = %s\" % (elid, elcon))\n",
        "        elements.append(element)"
      ],
      "metadata": {
        "colab": {
          "base_uri": "https://localhost:8080/"
        },
        "id": "E5ufZ_MEcUx6",
        "outputId": "e7da9841-49e9-42be-c562-1eab5ba7b852"
      },
      "execution_count": null,
      "outputs": [
        {
          "output_type": "stream",
          "name": "stdout",
          "text": [
            "Element type: 2\n",
            "Element id = 1, connectivity = [27, 43, 11]\n",
            "Element id = 2, connectivity = [14, 44, 5]\n",
            "Element id = 3, connectivity = [10, 45, 14]\n",
            "Element id = 4, connectivity = [4, 46, 27]\n",
            "Element id = 5, connectivity = [27, 11, 4]\n",
            "Element id = 6, connectivity = [10, 14, 5]\n",
            "Element id = 7, connectivity = [15, 41, 16]\n",
            "Element id = 8, connectivity = [25, 40, 26]\n",
            "Element id = 9, connectivity = [38, 39, 13]\n",
            "Element id = 10, connectivity = [28, 42, 29]\n",
            "Element id = 11, connectivity = [8, 39, 9]\n",
            "Element id = 12, connectivity = [2, 40, 3]\n",
            "Element id = 13, connectivity = [6, 41, 7]\n",
            "Element id = 14, connectivity = [12, 42, 1]\n",
            "Element id = 15, connectivity = [29, 43, 28]\n",
            "Element id = 16, connectivity = [16, 44, 15]\n",
            "Element id = 17, connectivity = [13, 45, 38]\n",
            "Element id = 18, connectivity = [26, 46, 25]\n",
            "Element id = 19, connectivity = [1, 42, 28]\n",
            "Element id = 20, connectivity = [26, 40, 2]\n",
            "Element id = 21, connectivity = [3, 40, 25]\n",
            "Element id = 22, connectivity = [25, 46, 4]\n",
            "Element id = 23, connectivity = [5, 44, 16]\n",
            "Element id = 24, connectivity = [16, 41, 6]\n",
            "Element id = 25, connectivity = [7, 41, 15]\n",
            "Element id = 26, connectivity = [13, 39, 8]\n",
            "Element id = 27, connectivity = [9, 39, 38]\n",
            "Element id = 28, connectivity = [38, 45, 10]\n",
            "Element id = 29, connectivity = [11, 43, 29]\n",
            "Element id = 30, connectivity = [29, 42, 12]\n",
            "Element id = 31, connectivity = [14, 45, 13]\n",
            "Element id = 32, connectivity = [15, 44, 14]\n",
            "Element id = 33, connectivity = [27, 46, 26]\n",
            "Element id = 34, connectivity = [28, 43, 27]\n",
            "Element id = 35, connectivity = [4, 11, 30]\n",
            "Element id = 36, connectivity = [30, 24, 4]\n",
            "Element id = 37, connectivity = [5, 17, 10]\n",
            "Element id = 38, connectivity = [10, 17, 37]\n",
            "Element id = 39, connectivity = [17, 18, 37]\n",
            "Element id = 40, connectivity = [18, 19, 36]\n",
            "Element id = 41, connectivity = [37, 18, 36]\n",
            "Element id = 42, connectivity = [19, 20, 35]\n",
            "Element id = 43, connectivity = [36, 19, 35]\n",
            "Element id = 44, connectivity = [20, 21, 34]\n",
            "Element id = 45, connectivity = [35, 20, 34]\n",
            "Element id = 46, connectivity = [21, 22, 33]\n",
            "Element id = 47, connectivity = [34, 21, 33]\n",
            "Element id = 48, connectivity = [22, 23, 32]\n",
            "Element id = 49, connectivity = [33, 22, 32]\n",
            "Element id = 50, connectivity = [23, 24, 31]\n",
            "Element id = 51, connectivity = [32, 23, 31]\n",
            "Element id = 52, connectivity = [31, 24, 30]\n"
          ]
        }
      ]
    },
    {
      "cell_type": "code",
      "source": [
        "X, Y, T = gmshparser.helpers.get_triangles(mesh)\n",
        "\n",
        "import matplotlib.pylab as plt\n",
        "plt.figure()\n",
        "plt.triplot(X, Y, T, color='black')\n",
        "plt.axis('equal')\n",
        "plt.axis('off')\n",
        "plt.tight_layout()\n",
        "#plt.savefig('docs/example_mesh.svg')\n",
        "plt.show()"
      ],
      "metadata": {
        "colab": {
          "base_uri": "https://localhost:8080/",
          "height": 297
        },
        "id": "UpWnQzcUvm7d",
        "outputId": "1578d6bb-5a7e-410b-9f54-97b73df43ff4"
      },
      "execution_count": null,
      "outputs": [
        {
          "output_type": "display_data",
          "data": {
            "text/plain": [
              "<Figure size 432x288 with 1 Axes>"
            ],
            "image/png": "[encoded data removed]"
          },
          "metadata": {
            "needs_background": "light"
          }
        }
      ]
    },
    {
      "cell_type": "code",
      "source": [
        "nodes[34-1].get_tag() #la lista de nodos o elementos esta corrida 1 xq los indices empiezan en cero pero la numeracion de nodos o elementos empieza en 1"
      ],
      "metadata": {
        "colab": {
          "base_uri": "https://localhost:8080/"
        },
        "id": "MKZVHvOyuF6c",
        "outputId": "16e2a3c7-1b18-4e27-9cbf-ad2c9c39ed41"
      },
      "execution_count": null,
      "outputs": [
        {
          "output_type": "execute_result",
          "data": {
            "text/plain": [
              "34"
            ]
          },
          "metadata": {},
          "execution_count": 7
        }
      ]
    },
    {
      "cell_type": "code",
      "source": [
        "def node_distance(node1, node2):\n",
        "  #esta funcion calcula las distancias entre 2 nodos\n",
        "  #en las formulas serian los lxnode1node2 y lynode1node2\n",
        "  #es una generalizacion de estas ecuaciones https://github.com/ArmandoCivini/AN2_TP2/blob/main/tp2_pictures/lx_ly_reference.PNG?raw=true\n",
        "  node1_pos = node1.get_coordinates()\n",
        "  node2_pos = node2.get_coordinates()\n",
        "\n",
        "  lx = node2_pos[0] - node1_pos[0]\n",
        "  ly = node2_pos[1] - node1_pos[1]\n",
        "\n",
        "  return lx, ly\n",
        "\n",
        "def local_matrix_row(alfa12, alfa13, alfa123, psi_xi, psi_eta):\n",
        "  #esta ecuacion calcula la fila de la matriz local\n",
        "  #el primer valor devuelto se multiplica por el nodo local 1 y asi\n",
        "  # se basa en esta ecuacion https://raw.githubusercontent.com/ArmandoCivini/AN2_TP2/main/tp2_pictures/row_reference.PNG\n",
        "\n",
        "  #estos coeficientes se basan en esta ecuacion https://github.com/ArmandoCivini/AN2_TP2/blob/main/tp2_pictures/alfa2_alfa3_reference.PNG?raw=true\n",
        "  alfa2 = (alfa123 * psi_xi) + (alfa13 * psi_eta)\n",
        "  alfa3 = -(alfa12 * psi_xi) - (alfa123 * psi_eta)\n",
        "\n",
        "  return [-(alfa2 + alfa3), alfa2, alfa3]\n",
        "\n",
        "def calculate_local_matrix(element, nodes):\n",
        "  nodes_global = element.get_connectivity()\n",
        "  #consigo los nodos del elemento\n",
        "  node1 = nodes[nodes_global[0]-1]\n",
        "  node2 = nodes[nodes_global[1]-1]\n",
        "  node3 = nodes[nodes_global[2]-1]\n",
        "\n",
        "  lx12, ly12 = node_distance(node1, node2)\n",
        "  lx13, ly13 = node_distance(node1, node3)\n",
        "  #basado en https://github.com/ArmandoCivini/AN2_TP2/blob/main/tp2_pictures/delta_reference.PNG?raw=true\n",
        "  delta = (lx12 * ly13) - (lx13 * ly12)\n",
        "\n",
        "  #basado en https://github.com/ArmandoCivini/AN2_TP2/blob/main/tp2_pictures/alfas_reference.PNG?raw=true\n",
        "  alfa12 = ((lx12 ** 2) + (ly12 ** 2)) / delta\n",
        "  alfa13 = ((lx13 ** 2) + (ly13 ** 2)) / delta\n",
        "  alfa123 = ((lx12 * lx13) + (ly12 * ly13)) / delta\n",
        "\n",
        "  #los coeficientes psi_xi y psi_eta se toman de https://github.com/ArmandoCivini/AN2_TP2/blob/main/tp2_pictures/psi_reference.PNG?raw=true\n",
        "  #dependiendo de a que nodo local pertenezcan\n",
        "  row1 = local_matrix_row(alfa12, alfa13, alfa123, -1/2, 1/2)\n",
        "  row2 = local_matrix_row(alfa12, alfa13, alfa123, 0, -1/2)\n",
        "  row3 = local_matrix_row(alfa12, alfa13, alfa123, 1/2, 0)\n",
        "\n",
        "  return [row1, row2, row3]\n"
      ],
      "metadata": {
        "id": "2ryteAL5qTxY"
      },
      "execution_count": null,
      "outputs": []
    },
    {
      "cell_type": "code",
      "source": [
        "len(nodes)"
      ],
      "metadata": {
        "id": "CenAOS4WiNsJ",
        "outputId": "262bab2b-e161-40cc-84ca-513d458e6c8c",
        "colab": {
          "base_uri": "https://localhost:8080/"
        }
      },
      "execution_count": null,
      "outputs": [
        {
          "output_type": "execute_result",
          "data": {
            "text/plain": [
              "46"
            ]
          },
          "metadata": {},
          "execution_count": 9
        }
      ]
    },
    {
      "cell_type": "code",
      "source": [
        "local_matrix_6 = calculate_local_matrix(elements[5], nodes) #devuelve la matriz local del elemento 6\n",
        "local_matrix_6"
      ],
      "metadata": {
        "colab": {
          "base_uri": "https://localhost:8080/"
        },
        "id": "eZq5oiYiRTzo",
        "outputId": "0cc7676f-bc3d-4ca5-a1c8-38a9d5d887a6"
      },
      "execution_count": null,
      "outputs": [
        {
          "output_type": "execute_result",
          "data": {
            "text/plain": [
              "[[-0.8652597402608023, 0.15909090909197124, 0.7061688311688311],\n",
              " [0.15909090909197124, -0.3181818181818182, 0.15909090908984694],\n",
              " [0.7061688311688311, 0.15909090908984694, -0.865259740258678]]"
            ]
          },
          "metadata": {},
          "execution_count": 10
        }
      ]
    },
    {
      "cell_type": "code",
      "source": [
        "import numpy as np\n",
        "\n",
        "global_matrix = np.zeros((len(nodes), len(nodes))) #creo la matriz global de NxN"
      ],
      "metadata": {
        "id": "ZORDjoxM43os"
      },
      "execution_count": null,
      "outputs": []
    },
    {
      "cell_type": "code",
      "source": [
        "#funcion para agregar los valores de una fila de una matriz local a la matriz global\n",
        "#row_num es el nodo global al cual corresponden los valores locales osea si la matriz global es para los nodos [10, 14, 5] la primera fila en la matriz\n",
        "#local corresponde a la fila 10 de la matriz global\n",
        "#values es la fila de la matriz local que queremos agregar y nodes_global son los indices globales de los nodos locales\n",
        "def add_row_to_global(global_matrix, row_num, values, nodes_global):\n",
        "  for i, node in enumerate(nodes_global):\n",
        "    global_matrix[row_num-1][node-1] += values[i]"
      ],
      "metadata": {
        "id": "cr1wLFoe9yMk"
      },
      "execution_count": null,
      "outputs": []
    },
    {
      "cell_type": "code",
      "source": [
        "#aca recorremos todos los elementos, calculando sus matrices locales y agregando sus valores a la matriz global\n",
        "%%timeit\n",
        "for element in elements:\n",
        "  nodes_global = element.get_connectivity()\n",
        "  local_matrix = calculate_local_matrix(element, nodes)\n",
        "  for i, node in enumerate(nodes_global):\n",
        "    add_row_to_global(global_matrix, node, local_matrix[i], nodes_global)"
      ],
      "metadata": {
        "id": "578UwmqA5mHa",
        "colab": {
          "base_uri": "https://localhost:8080/"
        },
        "outputId": "dc8bf859-a5db-4825-b0df-28325a301eb5"
      },
      "execution_count": null,
      "outputs": [
        {
          "output_type": "stream",
          "name": "stdout",
          "text": [
            "589 µs ± 56.9 µs per loop (mean ± std. dev. of 7 runs, 1000 loops each)\n"
          ]
        }
      ]
    },
    {
      "cell_type": "code",
      "source": [
        "global_matrix[1]"
      ],
      "metadata": {
        "id": "Cm_2KnknF7AB",
        "colab": {
          "base_uri": "https://localhost:8080/"
        },
        "outputId": "cc14a48d-e0f2-46f7-ad51-29e089e88a3a"
      },
      "execution_count": null,
      "outputs": [
        {
          "output_type": "execute_result",
          "data": {
            "text/plain": [
              "array([    0.        , -9328.53460821,  1832.61080008,     0.        ,\n",
              "           0.        ,     0.        ,     0.        ,     0.        ,\n",
              "           0.        ,     0.        ,     0.        ,     0.        ,\n",
              "           0.        ,     0.        ,     0.        ,     0.        ,\n",
              "           0.        ,     0.        ,     0.        ,     0.        ,\n",
              "           0.        ,     0.        ,     0.        ,     0.        ,\n",
              "           0.        , -2049.95307655,     0.        ,     0.        ,\n",
              "           0.        ,     0.        ,     0.        ,     0.        ,\n",
              "           0.        ,     0.        ,     0.        ,     0.        ,\n",
              "           0.        ,     0.        ,     0.        ,  9545.87688468,\n",
              "           0.        ,     0.        ,     0.        ,     0.        ,\n",
              "           0.        ,     0.        ])"
            ]
          },
          "metadata": {},
          "execution_count": 14
        }
      ]
    },
    {
      "cell_type": "code",
      "source": [
        "#esta funcion sirve para saber si un nodo pertenece a cierto borde segun su posicion\n",
        "def is_border(node, xMin, xMax, yMin, yMax):\n",
        "  pos = node.get_coordinates()\n",
        "  if pos[0] > xMax or pos[0] < xMin:\n",
        "    return False\n",
        "  if pos[1] > yMax or pos[1] < yMin:\n",
        "    return False\n",
        "  return True"
      ],
      "metadata": {
        "id": "IOchcYgLW_2a"
      },
      "execution_count": null,
      "outputs": []
    },
    {
      "cell_type": "code",
      "source": [
        "#aca generamos listas de los nodos que estan en los bordes para despues definir las condiciones de borde\n",
        "border_g1 = filter(lambda node: is_border(node, -100, 1000, 599, 601), nodes)\n",
        "\n",
        "border_t2 = filter(lambda node: is_border(node, -100, 1000, -1, 1), nodes)\n",
        "\n",
        "border_t3_1 = filter(lambda node: is_border(node, -1, 1, -1000, 1000), nodes)\n",
        "border_t3_2 = filter(lambda node: is_border(node, -1, 107, 32, 34), nodes)\n",
        "border_t3_3 = filter(lambda node: is_border(node, -1, 107, 566, 568), nodes)\n",
        "border_t3_4 = filter(lambda node: is_border(node, 96, 98, 32, 568), nodes)\n",
        "border_t3 = list(border_t3_1) + list(border_t3_2) + list(border_t3_3) + list(border_t3_4)\n",
        "\n",
        "border_t1_1 = filter(lambda node: is_border(node, 214, 216, -1000, 1000), nodes)\n",
        "border_t1_2 = filter(lambda node: is_border(node, 107.6, 216, 32, 34), nodes)\n",
        "border_t1_3 = filter(lambda node: is_border(node, 107.6, 216, 566, 568), nodes)\n",
        "border_t1_4 = filter(lambda node: is_border(node, 117, 118, 32, 568), nodes)\n",
        "border_t1 = list(border_t1_1) + list(border_t1_2) + list(border_t1_3) + list(border_t1_4)"
      ],
      "metadata": {
        "id": "El4VP-3UYq1f"
      },
      "execution_count": null,
      "outputs": []
    },
    {
      "cell_type": "code",
      "source": [
        "def eliminate_repeated_nodes(node_list):\n",
        "  seen = []\n",
        "  r = []\n",
        "  for node in node_list:\n",
        "    id = node.get_tag()\n",
        "    if not id in seen:\n",
        "      r.append(node)\n",
        "    seen.append(id)\n",
        "  return r"
      ],
      "metadata": {
        "id": "SmaGFx5hhuTt"
      },
      "execution_count": null,
      "outputs": []
    },
    {
      "cell_type": "code",
      "source": [
        "border_t1 = eliminate_repeated_nodes(border_t1)\n",
        "border_t3 = eliminate_repeated_nodes(border_t3)"
      ],
      "metadata": {
        "id": "ghOAPgK4imN3"
      },
      "execution_count": null,
      "outputs": []
    },
    {
      "cell_type": "code",
      "source": [
        "for node in border_t1_1:\n",
        "  print(node.get_tag())"
      ],
      "metadata": {
        "id": "FYnV8CRL26L_"
      },
      "execution_count": null,
      "outputs": []
    },
    {
      "cell_type": "code",
      "source": [
        "#esto es para plotear cualquier grupo de nodos\n",
        "#usado para comprobar que se hayan separado bien los bordes correnspondientes\n",
        "from matplotlib import pyplot as plt\n",
        "x_plot = []\n",
        "y_plot = []\n",
        "\n",
        "for node in border_t1:\n",
        "#for node in nodes[97:103]:\n",
        "  coord = node.get_coordinates()\n",
        "  x_plot.append(coord[0])\n",
        "  y_plot.append(coord[1])\n",
        "#for node in list(border_t1_2):\n",
        "#for node in nodes[97:103]:\n",
        "#  coord = node.get_coordinates()\n",
        "#  x_plot.append(coord[0])\n",
        "#  y_plot.append(coord[1])\n",
        "plt.scatter(x_plot,y_plot)\n",
        "plt.scatter(x_plot,y_plot)\n",
        "plt.xlim([-250, 450])\n",
        "plt.ylim([-50, 650])\n",
        "plt.show()"
      ],
      "metadata": {
        "id": "wPbIQaoLaLs3",
        "colab": {
          "base_uri": "https://localhost:8080/",
          "height": 265
        },
        "outputId": "a637d285-3385-4c2b-aa19-7e0767df39ae"
      },
      "execution_count": null,
      "outputs": [
        {
          "output_type": "display_data",
          "data": {
            "text/plain": [
              "<Figure size 432x288 with 1 Axes>"
            ],
            "image/png": "[encoded data removed]"
          },
          "metadata": {
            "needs_background": "light"
          }
        }
      ]
    },
    {
      "cell_type": "code",
      "source": [
        "#funcion para aplicar la condicion de neumman a un conjunto de nodos\n",
        "#por cada nodo se aplicara el valor recivido al vector independiente(b)\n",
        "# y en la matriz global se remplazara su fila por todos zeros y un 1 en la diagonal\n",
        "def apply_cond_neumman(border_nodes, value, global_matrix, b):\n",
        "  for node in border_nodes:\n",
        "    id = node.get_tag()\n",
        "    b[id-1] = value\n",
        "    global_matrix[id-1] = np.zeros(len(b))\n",
        "    global_matrix[id-1][id-1] = 1\n",
        "  return global_matrix, b"
      ],
      "metadata": {
        "id": "K50crEuvIlEW"
      },
      "execution_count": null,
      "outputs": []
    },
    {
      "cell_type": "code",
      "source": [
        "b = np.zeros(len(nodes)) #creo el vector independiente, lo inicializo en zero"
      ],
      "metadata": {
        "id": "y9xNn2nKIPS2"
      },
      "execution_count": null,
      "outputs": []
    },
    {
      "cell_type": "code",
      "source": [
        "#aplico las condiciones de borde del problema\n",
        "#para timearlo no podemos asignar a las variables globales\n",
        "def apply_conds(global_matrix, b, border_t1, border_t2, border_t3):\n",
        "  global_matrix, b = apply_cond_neumman(border_t1, 18, global_matrix, b)\n",
        "  global_matrix, b = apply_cond_neumman(border_t2, 20, global_matrix, b)\n",
        "  global_matrix, b = apply_cond_neumman(border_t3, 16, global_matrix, b)\n",
        "  return global_matrix, b"
      ],
      "metadata": {
        "id": "YyaHt1SjKWw4"
      },
      "execution_count": null,
      "outputs": []
    },
    {
      "cell_type": "code",
      "source": [
        "%%timeit\n",
        "_global_matrix, _b = apply_conds(global_matrix, b, border_t1, border_t2, border_t3)"
      ],
      "metadata": {
        "colab": {
          "base_uri": "https://localhost:8080/"
        },
        "id": "qfPheR_uaBgR",
        "outputId": "f5e56857-590f-4995-b4d0-3c9e7f9e93b7"
      },
      "execution_count": null,
      "outputs": [
        {
          "output_type": "stream",
          "name": "stdout",
          "text": [
            "80 µs ± 26.7 µs per loop (mean ± std. dev. of 7 runs, 10000 loops each)\n"
          ]
        }
      ]
    },
    {
      "cell_type": "code",
      "source": [
        "global_matrix, b = apply_conds(global_matrix, b, border_t1, border_t2, border_t3)"
      ],
      "metadata": {
        "id": "tV6KlDz8QtfZ"
      },
      "execution_count": null,
      "outputs": []
    },
    {
      "cell_type": "code",
      "source": [
        "b"
      ],
      "metadata": {
        "id": "TPJiHEHeLWw2",
        "colab": {
          "base_uri": "https://localhost:8080/"
        },
        "outputId": "241be8dc-fb7d-4ed2-b1b7-bc88ecc06ab9"
      },
      "execution_count": null,
      "outputs": [
        {
          "output_type": "execute_result",
          "data": {
            "text/plain": [
              "array([16., 18., 18., 18., 18., 18., 18., 16., 16., 16., 16., 16., 20.,\n",
              "       20., 20., 18., 18., 18., 18., 18., 18., 18., 18., 18., 18.,  0.,\n",
              "        0.,  0., 16., 16., 16., 16., 16., 16., 16., 16., 16., 16.,  0.,\n",
              "        0.,  0.,  0.,  0.,  0.,  0.,  0.])"
            ]
          },
          "metadata": {},
          "execution_count": 26
        }
      ]
    },
    {
      "cell_type": "code",
      "source": [
        "global_matrix"
      ],
      "metadata": {
        "id": "4xKjorTvLfAG",
        "colab": {
          "base_uri": "https://localhost:8080/"
        },
        "outputId": "c72ca1d8-abcb-46cb-ed46-61952d0ae429"
      },
      "execution_count": null,
      "outputs": [
        {
          "output_type": "execute_result",
          "data": {
            "text/plain": [
              "array([[ 1.0000000e+00,  0.0000000e+00,  0.0000000e+00, ...,\n",
              "         0.0000000e+00,  0.0000000e+00,  0.0000000e+00],\n",
              "       [ 0.0000000e+00,  1.0000000e+00,  0.0000000e+00, ...,\n",
              "         0.0000000e+00,  0.0000000e+00,  0.0000000e+00],\n",
              "       [ 0.0000000e+00,  0.0000000e+00,  1.0000000e+00, ...,\n",
              "         0.0000000e+00,  0.0000000e+00,  0.0000000e+00],\n",
              "       ...,\n",
              "       [ 0.0000000e+00,  0.0000000e+00,  0.0000000e+00, ...,\n",
              "        -3.6653966e+04,  0.0000000e+00,  0.0000000e+00],\n",
              "       [ 0.0000000e+00,  0.0000000e+00,  0.0000000e+00, ...,\n",
              "         0.0000000e+00, -3.6653966e+04,  0.0000000e+00],\n",
              "       [ 0.0000000e+00,  0.0000000e+00,  0.0000000e+00, ...,\n",
              "         0.0000000e+00,  0.0000000e+00, -3.6653966e+04]])"
            ]
          },
          "metadata": {},
          "execution_count": 27
        }
      ]
    },
    {
      "cell_type": "code",
      "source": [
        "#resuelvo el sistema de ecuaciones de tipo Ax=b siendo A la matriz global\n",
        "x = np.linalg.solve(global_matrix, b)\n",
        "x"
      ],
      "metadata": {
        "id": "XFleThv0LheA",
        "colab": {
          "base_uri": "https://localhost:8080/"
        },
        "outputId": "c8d71879-db16-4639-a1f6-294269f2ce66"
      },
      "execution_count": null,
      "outputs": [
        {
          "output_type": "execute_result",
          "data": {
            "text/plain": [
              "array([16.        , 18.        , 18.        , 18.        , 18.        ,\n",
              "       18.        , 18.        , 16.        , 16.        , 16.        ,\n",
              "       16.        , 16.        , 20.        , 20.        , 20.        ,\n",
              "       18.        , 18.        , 18.        , 18.        , 18.        ,\n",
              "       18.        , 18.        , 18.        , 18.        , 18.        ,\n",
              "       17.98392196, 17.        , 16.01607804, 16.        , 16.        ,\n",
              "       16.        , 16.        , 16.        , 16.        , 16.        ,\n",
              "       16.        , 16.        , 16.        , 16.93148882, 17.99625587,\n",
              "       18.46574441, 16.00374413, 16.1540816 , 18.86748046, 17.73496093,\n",
              "       17.8459184 ])"
            ]
          },
          "metadata": {},
          "execution_count": 28
        }
      ]
    },
    {
      "cell_type": "code",
      "source": [
        "%%timeit\n",
        "np.linalg.solve(global_matrix, b)"
      ],
      "metadata": {
        "colab": {
          "base_uri": "https://localhost:8080/"
        },
        "id": "c85LQnmYaTMP",
        "outputId": "d9cdc453-9a7c-4fe1-e916-be3fe0edd7a3"
      },
      "execution_count": null,
      "outputs": [
        {
          "output_type": "stream",
          "name": "stdout",
          "text": [
            "207 µs ± 31.4 µs per loop (mean ± std. dev. of 7 runs, 10000 loops each)\n"
          ]
        }
      ]
    },
    {
      "cell_type": "code",
      "source": [
        "#temperaturas resultantes segun el nodo\n",
        "#usado para generar el nodeData en el .msh\n",
        "print(len(nodes))\n",
        "for i, temp in enumerate(x):\n",
        "  print(f\"{i+1} {temp}\")"
      ],
      "metadata": {
        "id": "7mntWPfVSKm2",
        "colab": {
          "base_uri": "https://localhost:8080/"
        },
        "outputId": "f461e604-a20a-492e-f6cf-8679f68b37cb"
      },
      "execution_count": null,
      "outputs": [
        {
          "output_type": "stream",
          "name": "stdout",
          "text": [
            "46\n",
            "1 15.999999999999982\n",
            "2 17.99999999999992\n",
            "3 18.000000000000085\n",
            "4 18.000000000000014\n",
            "5 17.999999999999993\n",
            "6 18.000000000000004\n",
            "7 18.0\n",
            "8 16.00000000000001\n",
            "9 16.0\n",
            "10 16.000000000000004\n",
            "11 16.00000000000001\n",
            "12 16.0\n",
            "13 20.0\n",
            "14 20.0\n",
            "15 20.0\n",
            "16 18.0\n",
            "17 18.0\n",
            "18 18.0\n",
            "19 18.0\n",
            "20 18.0\n",
            "21 18.0\n",
            "22 18.0\n",
            "23 18.0\n",
            "24 18.0\n",
            "25 17.99999999999997\n",
            "26 17.983921960185572\n",
            "27 17.00000000000777\n",
            "28 16.016078039828887\n",
            "29 15.999999999999995\n",
            "30 16.0\n",
            "31 16.0\n",
            "32 16.0\n",
            "33 16.0\n",
            "34 16.0\n",
            "35 16.0\n",
            "36 16.0\n",
            "37 16.0\n",
            "38 15.999999999999996\n",
            "39 16.931488823208756\n",
            "40 17.996255871402163\n",
            "41 18.46574441160228\n",
            "42 16.00374412860154\n",
            "43 16.15408159953783\n",
            "44 18.867480463257067\n",
            "45 17.7349609265294\n",
            "46 17.845918400476684\n"
          ]
        }
      ]
    },
    {
      "cell_type": "code",
      "source": [
        "def point_in_triangle(A, B, C, P):\n",
        "    u = ((B[1] - C[1]) * (P[0] - C[0]) + (C[0] - B[0]) * (P[1] - C[1])) / \\\n",
        "        ((B[1] - C[1]) * (A[0] - C[0]) + (C[0] - B[0]) * (A[1] - C[1]))\n",
        "    \n",
        "    v = ((C[1] - A[1]) * (P[0] - C[0]) + (A[0] - C[0]) * (P[1] - C[1])) / \\\n",
        "        ((B[1] - C[1]) * (A[0] - C[0]) + (C[0] - B[0]) * (A[1] - C[1]))\n",
        "\n",
        "    z = 1 - u - v\n",
        "    \n",
        "    if 0 <= u <= 1 and 0 <= v <= 1 and u + v <= 1:\n",
        "        return True, [u,v,z]\n",
        "    else:\n",
        "        return False, []"
      ],
      "metadata": {
        "id": "bj_5KecvDvwS"
      },
      "execution_count": null,
      "outputs": []
    },
    {
      "cell_type": "code",
      "source": [
        "def find_element(coordinate):\n",
        "  for element in elements:\n",
        "    nodos = element.get_connectivity()\n",
        "    nodo1 = nodes[nodos[0]-1].get_coordinates()\n",
        "    nodo2 = nodes[nodos[1]-1].get_coordinates()\n",
        "    nodo3 = nodes[nodos[2]-1].get_coordinates()\n",
        "    is_in, baricenter = point_in_triangle(nodo1, nodo2, nodo3, coordinate)\n",
        "    if is_in:\n",
        "      return element, baricenter\n",
        "  return None, None"
      ],
      "metadata": {
        "id": "iGY2JJ0pDzYV"
      },
      "execution_count": null,
      "outputs": []
    },
    {
      "cell_type": "code",
      "source": [
        "#Ejemplo\n",
        "coordenada = (110, 10)\n",
        "elemento, baricenter = find_element(coordenada)\n",
        "elemento.get_connectivity()"
      ],
      "metadata": {
        "id": "ZS63NcvDEC1M",
        "colab": {
          "base_uri": "https://localhost:8080/"
        },
        "outputId": "f5a387e3-5f3c-44ce-9df4-20c6a5372691"
      },
      "execution_count": null,
      "outputs": [
        {
          "output_type": "execute_result",
          "data": {
            "text/plain": [
              "[10, 14, 5]"
            ]
          },
          "metadata": {},
          "execution_count": 33
        }
      ]
    },
    {
      "cell_type": "code",
      "source": [
        "#para comprobar si el ejemplo funciona, el punto azul debería estar adentro del triangulo formado por los puntos rojos\n",
        "from matplotlib import pyplot as plt\n",
        "x_plot = []\n",
        "y_plot = []\n",
        "\n",
        "for node_id in elemento.get_connectivity():\n",
        "  node = nodes[node_id-1]\n",
        "  coord = node.get_coordinates()\n",
        "  x_plot.append(coord[0])\n",
        "  y_plot.append(coord[1])\n",
        "plt.scatter(x_plot,y_plot,color='red')\n",
        "plt.scatter([coordenada[0]],[coordenada[1]],color='blue')\n",
        "#agregar estas lineas si se quiere ver la ubicacion general del triangulo\n",
        "#plt.xlim([-250, 450])\n",
        "#plt.ylim([-50, 650])\n",
        "plt.show()"
      ],
      "metadata": {
        "colab": {
          "base_uri": "https://localhost:8080/",
          "height": 265
        },
        "id": "B5UHOcy0-_rp",
        "outputId": "2a2d0093-e7f4-47d8-b156-94f57dc6c944"
      },
      "execution_count": null,
      "outputs": [
        {
          "output_type": "display_data",
          "data": {
            "text/plain": [
              "<Figure size 432x288 with 1 Axes>"
            ],
            "image/png": "[encoded data removed]"
          },
          "metadata": {
            "needs_background": "light"
          }
        }
      ]
    },
    {
      "cell_type": "code",
      "source": [
        "baricenter"
      ],
      "metadata": {
        "colab": {
          "base_uri": "https://localhost:8080/"
        },
        "id": "T0ezWXA-ISW6",
        "outputId": "22841e5c-a8a7-41bf-9ed5-be44b1ae9b25"
      },
      "execution_count": null,
      "outputs": [
        {
          "output_type": "execute_result",
          "data": {
            "text/plain": [
              "[0.032467532465205826, 0.696969696969697, 0.27056277056509714]"
            ]
          },
          "metadata": {},
          "execution_count": 35
        }
      ]
    },
    {
      "cell_type": "code",
      "source": [
        "def calculate_temperature_baricenter(element, baricenter, x):\n",
        "  nodes = element.get_connectivity()\n",
        "  temp = 0\n",
        "  for i in range(len(nodes)):\n",
        "    temp += x[nodes[i]-1] * baricenter[i]\n",
        "  return temp"
      ],
      "metadata": {
        "id": "iifk99ezA1qG"
      },
      "execution_count": null,
      "outputs": []
    },
    {
      "cell_type": "code",
      "source": [
        "calculate_temperature_baricenter(elemento, baricenter, x)"
      ],
      "metadata": {
        "colab": {
          "base_uri": "https://localhost:8080/"
        },
        "id": "aQIDmjmyIaTt",
        "outputId": "d2b97be6-d34b-4fc1-d171-f9ddd95dd22c"
      },
      "execution_count": null,
      "outputs": [
        {
          "output_type": "execute_result",
          "data": {
            "text/plain": [
              "19.32900432900898"
            ]
          },
          "metadata": {},
          "execution_count": 37
        }
      ]
    },
    {
      "cell_type": "code",
      "source": [
        "def get_temperature_at(point, x):\n",
        "  element, baricenter = find_element(point)\n",
        "  if not element:\n",
        "    return None\n",
        "  return calculate_temperature_baricenter(element, baricenter, x)"
      ],
      "metadata": {
        "id": "vzbBx7pBJUao"
      },
      "execution_count": null,
      "outputs": []
    },
    {
      "cell_type": "code",
      "source": [
        "get_temperature_at((110, 10), x)"
      ],
      "metadata": {
        "colab": {
          "base_uri": "https://localhost:8080/"
        },
        "id": "wV59osQQJwhX",
        "outputId": "0418f389-4105-4c4b-efa7-7108ea45ceff"
      },
      "execution_count": null,
      "outputs": [
        {
          "output_type": "execute_result",
          "data": {
            "text/plain": [
              "19.32900432900898"
            ]
          },
          "metadata": {},
          "execution_count": 39
        }
      ]
    },
    {
      "cell_type": "code",
      "source": [
        "#puntos en donde se van a coomparar los errores.\n",
        "#agregar mas\n",
        "reference_points = [(100, 300), (110, 10)]\n",
        "for point in reference_points:\n",
        "  print(get_temperature_at(point, x))"
      ],
      "metadata": {
        "colab": {
          "base_uri": "https://localhost:8080/"
        },
        "id": "xbsBq-YcLlEi",
        "outputId": "3634ee6b-597f-41d9-cf35-af61adbbf9ce"
      },
      "execution_count": null,
      "outputs": [
        {
          "output_type": "stream",
          "name": "stdout",
          "text": [
            "16.285714285714285\n",
            "19.32900432900898\n"
          ]
        }
      ]
    },
    {
      "cell_type": "code",
      "source": [
        "def calculate_T_point(point, element):\n",
        "  #calcula la T en un punto (x,y) usando las funciones de forma, ecuacion https://raw.githubusercontent.com/ArmandoCivini/AN2_TP2/main/tp2_pictures/temperatura_en_cualquier_punto.jpeg\n",
        "    nodes_global = element.get_connectivity()\n",
        "    node1 = nodes[nodes_global[0]-1]\n",
        "    node2 = nodes[nodes_global[1]-1]\n",
        "    node3 = nodes[nodes_global[2]-1]\n",
        "    node_1_pos = node1.get_coordinates()\n",
        "    node_2_pos = node2.get_coordinates()\n",
        "    node_3_pos = node3.get_coordinates()\n",
        "    node_1_T = x[nodes_global[0]-1]\n",
        "    node_2_T = x[nodes_global[1]-1]\n",
        "    node_3_T = x[nodes_global[2]-1]\n",
        "\n",
        "    xi = (((point[1] - node_1_pos[1]) * (node_3_pos[0] - node_1_pos[0]) - (node_3_pos[1] - node_1_pos[1]) * (point[0] - node_1_pos[0])) /\n",
        "        ((node_2_pos[1] - node_1_pos[1]) * (node_3_pos[0] - node_1_pos[0]) - (node_3_pos[1] - node_1_pos[1]) * (node_2_pos[0] - node_1_pos[0])))\n",
        "    eta = (((point[1] - node_1_pos[1]) * (node_2_pos[0] - node_1_pos[0]) - (node_2_pos[1] - node_1_pos[1]) * (point[0] - node_1_pos[0])) /\n",
        "        ((node_3_pos[1] - node_1_pos[1]) * (node_2_pos[0] - node_1_pos[0]) - (node_2_pos[1] - node_1_pos[1]) * (node_3_pos[0] - node_1_pos[0])))\n",
        "    \n",
        "    N1 = 1 - xi - eta\n",
        "    N2 = xi\n",
        "    N3 = eta\n",
        "\n",
        "    T = N1 * node_1_T + N2 * node_2_T + N3 * node_3_T\n",
        "\n",
        "    return T"
      ],
      "metadata": {
        "id": "KVcTX3UjYFlM"
      },
      "execution_count": null,
      "outputs": []
    },
    {
      "cell_type": "code",
      "source": [
        "#arma array de puntos en los que se va a calcular T para comparar error\n",
        "puntos = [None]*131\n",
        "for i in range (0, 21):\n",
        "  puntos[i] = [7+10*i, 11]\n",
        "for i in range (21, 42):\n",
        "  puntos[i] = [7+10*(i-21), 22]\n",
        "for i in range(42, 68):\n",
        " puntos[i] = [107, 40+20*(i-42)]\n",
        "for i in range (68, 89):\n",
        "  puntos[i] = [7+10*(i-68), 578]\n",
        "for i in range(89,110):\n",
        "  puntos[i] = [7+10*(i-89), 589]\n",
        "for i in range(110, 131):\n",
        "  puntos[i] = [7+10*(i-110), 600]\n",
        "\n",
        "import matplotlib.pyplot as plt\n",
        "import numpy as np\n",
        "\n",
        "puntos = np.array(puntos)\n",
        "\n",
        "plt.scatter(puntos[:,0], puntos[:,1])\n",
        "plt.show"
      ],
      "metadata": {
        "colab": {
          "base_uri": "https://localhost:8080/",
          "height": 282
        },
        "id": "z8ZWEQG5YL2_",
        "outputId": "fbcb13ab-1835-421d-8d50-07c5640cabd2"
      },
      "execution_count": null,
      "outputs": [
        {
          "output_type": "execute_result",
          "data": {
            "text/plain": [
              "<function matplotlib.pyplot.show(*args, **kw)>"
            ]
          },
          "metadata": {},
          "execution_count": 42
        },
        {
          "output_type": "display_data",
          "data": {
            "text/plain": [
              "<Figure size 432x288 with 1 Axes>"
            ],
            "image/png": "[encoded data removed]"
          },
          "metadata": {
            "needs_background": "light"
          }
        }
      ]
    },
    {
      "cell_type": "code",
      "source": [
        "i = 0\n",
        "temperaturas = [None]*131\n",
        "for punto in puntos:\n",
        "  elemento, baricentro = find_element(punto)\n",
        "  temperaturas[i] = calculate_T_point(punto, elemento)\n",
        "  print(\"coor = %s, T = %s\" % (punto, temperaturas[i]))\n",
        "  i = i+1"
      ],
      "metadata": {
        "colab": {
          "base_uri": "https://localhost:8080/"
        },
        "id": "97bPzlTFZqBw",
        "outputId": "2e50c548-a1f2-4399-b602-2da8845d2e18"
      },
      "execution_count": null,
      "outputs": [
        {
          "output_type": "stream",
          "name": "stdout",
          "text": [
            "coor = [ 7 11], T = 16.255077623959334\n",
            "coor = [17 11], T = 16.619474229615513\n",
            "coor = [27 11], T = 17.362077820124025\n",
            "coor = [37 11], T = 18.039667443122116\n",
            "coor = [47 11], T = 18.457666925485377\n",
            "coor = [57 11], T = 18.66666666666783\n",
            "coor = [67 11], T = 18.66666666666988\n",
            "coor = [77 11], T = 18.666666666669876\n",
            "coor = [87 11], T = 18.66666666666988\n",
            "coor = [97 11], T = 18.666666666668064\n",
            "coor = [107  11], T = 18.952380952385404\n",
            "coor = [117  11], T = 19.333333333332597\n",
            "coor = [127  11], T = 19.333333333331378\n",
            "coor = [137  11], T = 19.33333333333136\n",
            "coor = [147  11], T = 19.333333333331364\n",
            "coor = [157  11], T = 19.333333333332476\n",
            "coor = [167  11], T = 19.249733436860772\n",
            "coor = [177  11], T = 19.040733695678224\n",
            "coor = [187  11], T = 18.71824821238647\n",
            "coor = [197  11], T = 18.346155189130428\n",
            "coor = [207  11], T = 18.14575864226189\n",
            "coor = [ 7 22], T = 16.25507762395933\n",
            "coor = [17 22], T = 16.619474229615506\n",
            "coor = [27 22], T = 16.620992548805837\n",
            "coor = [37 22], T = 16.77948401920102\n",
            "coor = [47 22], T = 17.197483501564278\n",
            "coor = [57 22], T = 17.333333333334906\n",
            "coor = [67 22], T = 17.333333333337237\n",
            "coor = [77 22], T = 17.333333333337528\n",
            "coor = [87 22], T = 17.333333333336025\n",
            "coor = [97 22], T = 17.333333333334032\n",
            "coor = [107  22], T = 17.952380952383177\n",
            "coor = [117  22], T = 18.66666666666636\n",
            "coor = [127  22], T = 18.666666666665133\n",
            "coor = [137  22], T = 18.666666666664092\n",
            "coor = [147  22], T = 18.666666666664128\n",
            "coor = [157  22], T = 18.66666666666556\n",
            "coor = [167  22], T = 18.619641724900823\n",
            "coor = [177  22], T = 18.41064198371827\n",
            "coor = [187  22], T = 18.310496274401522\n",
            "coor = [197  22], T = 18.310496274401522\n",
            "coor = [207  22], T = 18.14575864226189\n",
            "coor = [107  40], T = 16.952380952380953\n",
            "coor = [107  60], T = 16.952380952380956\n",
            "coor = [107  80], T = 16.95238095238095\n",
            "coor = [107 100], T = 16.95238095238095\n",
            "coor = [107 120], T = 16.95238095238095\n",
            "coor = [107 140], T = 16.952380952380953\n",
            "coor = [107 160], T = 16.952380952380953\n",
            "coor = [107 180], T = 16.95238095238095\n",
            "coor = [107 200], T = 16.95238095238095\n",
            "coor = [107 220], T = 16.95238095238095\n",
            "coor = [107 240], T = 16.952380952380953\n",
            "coor = [107 260], T = 16.95238095238095\n",
            "coor = [107 280], T = 16.952380952380953\n",
            "coor = [107 300], T = 16.952380952380953\n",
            "coor = [107 320], T = 16.952380952380953\n",
            "coor = [107 340], T = 16.952380952380953\n",
            "coor = [107 360], T = 16.952380952380953\n",
            "coor = [107 380], T = 16.952380952380953\n",
            "coor = [107 400], T = 16.95238095238095\n",
            "coor = [107 420], T = 16.952380952380953\n",
            "coor = [107 440], T = 16.952380952380953\n",
            "coor = [107 460], T = 16.952380952380953\n",
            "coor = [107 480], T = 16.952380952380953\n",
            "coor = [107 500], T = 16.95238095238095\n",
            "coor = [107 520], T = 16.952380952380956\n",
            "coor = [107 540], T = 16.95238095238096\n",
            "coor = [  7 578], T = 16.001025287049806\n",
            "coor = [ 17 578], T = 16.002489982835257\n",
            "coor = [ 27 578], T = 16.002496085734357\n",
            "coor = [ 37 578], T = 16.003133143777525\n",
            "coor = [ 47 578], T = 16.00481329685837\n",
            "coor = [ 57 578], T = 16.04778015632258\n",
            "coor = [ 67 578], T = 16.110625800340706\n",
            "coor = [ 77 578], T = 16.118413117885027\n",
            "coor = [ 87 578], T = 16.195390883285533\n",
            "coor = [ 97 578], T = 16.29757047591529\n",
            "coor = [107 578], T = 16.952380952381432\n",
            "coor = [117 578], T = 17.692211564827446\n",
            "coor = [127 578], T = 17.79439115746109\n",
            "coor = [137 578], T = 17.881586882126665\n",
            "coor = [147 578], T = 17.883089635268995\n",
            "coor = [157 578], T = 17.945935279283702\n",
            "coor = [167 578], T = 17.99501868783805\n",
            "coor = [177 578], T = 17.996698840917517\n",
            "coor = [187 578], T = 17.997503914268112\n",
            "coor = [197 578], T = 17.997503914268133\n",
            "coor = [207 578], T = 17.998828243372834\n",
            "coor = [  7 589], T = 16.001025287049803\n",
            "coor = [ 17 589], T = 16.00248998283525\n",
            "coor = [ 27 589], T = 16.00547488536158\n",
            "coor = [ 37 589], T = 16.008198463598003\n",
            "coor = [ 47 589], T = 16.009878616678847\n",
            "coor = [ 57 589], T = 16.04214151522879\n",
            "coor = [ 67 589], T = 16.119662397550066\n",
            "coor = [ 77 589], T = 16.302717645955095\n",
            "coor = [ 87 589], T = 16.485772894360124\n",
            "coor = [ 97 589], T = 16.595140951830565\n",
            "coor = [107 589], T = 16.9523809523819\n",
            "coor = [117 589], T = 17.39464108891825\n",
            "coor = [127 589], T = 17.496820681551885\n",
            "coor = [137 589], T = 17.678976829219618\n",
            "coor = [147 589], T = 17.8620320776249\n",
            "coor = [157 589], T = 17.9515739203814\n",
            "coor = [167 589], T = 17.989953368022157\n",
            "coor = [177 589], T = 17.991633521101626\n",
            "coor = [187 589], T = 17.994225988321432\n",
            "coor = [197 589], T = 17.997217251542708\n",
            "coor = [207 589], T = 17.998828243372778\n",
            "coor = [  7 600], T = 16.00209388425677\n",
            "coor = [ 17 600], T = 16.005085147480756\n",
            "coor = [ 27 600], T = 16.00807641070474\n",
            "coor = [ 37 600], T = 16.01106767392872\n",
            "coor = [ 47 600], T = 16.014058937152708\n",
            "coor = [ 57 600], T = 16.075570995561154\n",
            "coor = [ 67 600], T = 16.258626243966184\n",
            "coor = [ 77 600], T = 16.44168149237121\n",
            "coor = [ 87 600], T = 16.624736740776243\n",
            "coor = [ 97 600], T = 16.80779198918127\n",
            "coor = [107 600], T = 16.990847237586298\n",
            "coor = [117 600], T = 17.173902485991565\n",
            "coor = [127 600], T = 17.356957734396847\n",
            "coor = [137 600], T = 17.54001298280213\n",
            "coor = [147 600], T = 17.72306823120741\n",
            "coor = [157 600], T = 17.90612347961269\n",
            "coor = [167 600], T = 17.985641936537796\n",
            "coor = [177 600], T = 17.98863319975907\n",
            "coor = [187 600], T = 17.991624462980347\n",
            "coor = [197 600], T = 17.994615726201623\n",
            "coor = [207 600], T = 17.9976069894229\n"
          ]
        }
      ]
    },
    {
      "cell_type": "code",
      "source": [
        "#se consideran exactos los valores calculados en cada punto evaluado con la malla de 1572 elementos\n",
        "T_exacta = [17.232675812611106, \n",
        " 18.135670293662137,\n",
        " 18.47582668597356,\n",
        " 18.59634067882311,\n",
        " 18.640428592847385,\n",
        " 18.65995589360615,\n",
        " 18.672215037210464,\n",
        " 18.688909514278343,\n",
        " 18.723362302233717,\n",
        " 18.801510345769046,\n",
        " 18.92887075065431,\n",
        " 19.09372413238525,\n",
        " 19.221469443667935,\n",
        " 19.285144822789796,\n",
        " 19.311986674516334,\n",
        " 19.321765765036822,\n",
        " 19.31956350506018,\n",
        " 19.30347461007795,\n",
        " 19.252613693783793,\n",
        " 19.11896700832725,\n",
        " 18.7367504245236,\n",
        " 16.45743134454289,\n",
        " 16.92025208149983,\n",
        " 17.15916118257374,\n",
        " 17.266134422853668,\n",
        " 17.307365210063786,\n",
        " 17.326683322340152,\n",
        " 17.33884429003961,\n",
        " 17.35748611363683,\n",
        " 17.401524959944563,\n",
        " 17.526890764131394,\n",
        " 17.8104555557124,\n",
        " 18.25541590604929,\n",
        " 18.517055459009455,\n",
        " 18.61439315254071,\n",
        " 18.645540399062767,\n",
        " 18.654844574256394,\n",
        " 18.652507471101877,\n",
        " 18.637111379097718,\n",
        " 18.592077500753092,\n",
        " 18.4874679992114,\n",
        " 18.264550527740166,\n",
        " 16.719276675136705,\n",
        " 16.941269095524802,\n",
        " 16.95180439839527,\n",
        " 16.952351455409453,\n",
        " 16.952379472195236,\n",
        " 16.95238088002059,\n",
        " 16.952380948890777,\n",
        " 16.95238095219757,\n",
        " 16.95238095237134,\n",
        " 16.95238095238046,\n",
        " 16.952380952380924,\n",
        " 16.95238095238095,\n",
        " 16.952380952380953,\n",
        " 16.95238095238096,\n",
        " 16.952380952380956,\n",
        " 16.952380952380956,\n",
        " 16.952380952380977,\n",
        " 16.95238095238154,\n",
        " 16.952380952392225,\n",
        " 16.952380952596144,\n",
        " 16.95238095651292,\n",
        " 16.952381038118908,\n",
        " 16.952382707490685,\n",
        " 16.952416655966502,\n",
        " 16.953071613792094,\n",
        " 16.965685447838837,\n",
        " 16.0032028669079,\n",
        " 16.00852310134117,\n",
        " 16.015939190381214,\n",
        " 16.027134407226214,\n",
        " 16.044372909039982,\n",
        " 16.071309855506218,\n",
        " 16.116873787434805,\n",
        " 16.199122509721068,\n",
        " 16.35240081099205,\n",
        " 16.67702702588126,\n",
        " 17.209421644313288,\n",
        " 17.58642022065493,\n",
        " 17.773014657674786,\n",
        " 17.866093562891365,\n",
        " 17.918838042707428,\n",
        " 17.94968216777746,\n",
        " 17.96897471516412,\n",
        " 17.981130417318393,\n",
        " 17.988751015084905,\n",
        " 17.993857912422033,\n",
        " 17.997495093945304,\n",
        " 16.005587401933255,\n",
        " 16.01492205574001,\n",
        " 16.027633283883073,\n",
        " 16.04600947537872,\n",
        " 16.076144683073355,\n",
        " 16.123458114761615,\n",
        " 16.201349376422716,\n",
        " 16.320526469276206,\n",
        " 16.510946990635322,\n",
        " 16.793305439802303,\n",
        " 17.131471432928823,\n",
        " 17.42794007168338,\n",
        " 17.64076706913832,\n",
        " 17.775354257787196,\n",
        " 17.861350321403208,\n",
        " 17.913420289805977,\n",
        " 17.946410186971104,\n",
        " 17.96745850990043,\n",
        " 17.980506689869003,\n",
        " 17.98938373556868,\n",
        " 17.995716216008315,\n",
        " 16.00648472681643,\n",
        " 16.017269626807668,\n",
        " 16.03196703752086,\n",
        " 16.053800347920028,\n",
        " 16.088835837695896,\n",
        " 16.141964808722836,\n",
        " 16.229664376062836,\n",
        " 16.36221647433022,\n",
        " 16.55853160837449,\n",
        " 16.8194454415181,\n",
        " 17.114308290665324,\n",
        " 17.38479158086008,\n",
        " 17.598315846711063,\n",
        " 17.742851436527857,\n",
        " 17.839218479266833,\n",
        " 17.900099366614164,\n",
        " 17.938018539649544,\n",
        " 17.96249888556671,\n",
        " 17.977472990726817,\n",
        " 17.98773524055126,\n",
        " 17.995019157476246]"
      ],
      "metadata": {
        "id": "5WYCyg1h0Riv"
      },
      "execution_count": null,
      "outputs": []
    },
    {
      "cell_type": "code",
      "source": [
        "#devuelve error absoluto en cada punto evaluado\n",
        "def err_abs(temperaturas, T_exacta):\n",
        "  temperaturas = np.array(temperaturas)\n",
        "  T_exacta = np.array(T_exacta)\n",
        "  error_abs = abs(temperaturas - T_exacta)\n",
        "  return error_abs"
      ],
      "metadata": {
        "id": "tqp9QJhY0VzC"
      },
      "execution_count": null,
      "outputs": []
    },
    {
      "cell_type": "code",
      "source": [
        "err_abs(temperaturas, T_exacta)"
      ],
      "metadata": {
        "colab": {
          "base_uri": "https://localhost:8080/"
        },
        "id": "-pZR9M4G0ZTF",
        "outputId": "18d51d3f-f36e-4961-fa78-53ee1984e692"
      },
      "execution_count": null,
      "outputs": [
        {
          "output_type": "execute_result",
          "data": {
            "text/plain": [
              "array([9.77598189e-01, 1.51619606e+00, 1.11374887e+00, 5.56673236e-01,\n",
              "       1.82761667e-01, 6.71077306e-03, 5.54837054e-03, 2.22428476e-02,\n",
              "       5.66956356e-02, 1.34843679e-01, 2.35102017e-02, 2.39609201e-01,\n",
              "       1.11863890e-01, 4.81885105e-02, 2.13466588e-02, 1.15675683e-02,\n",
              "       6.98300682e-02, 2.62740914e-01, 5.34365481e-01, 7.72811819e-01,\n",
              "       5.90991782e-01, 2.02353721e-01, 3.00777852e-01, 5.38168634e-01,\n",
              "       4.86650404e-01, 1.09881708e-01, 6.65001099e-03, 5.51095670e-03,\n",
              "       2.41527803e-02, 6.81916266e-02, 1.93557431e-01, 1.41925397e-01,\n",
              "       4.11250761e-01, 1.49611208e-01, 5.22735141e-02, 2.11262676e-02,\n",
              "       1.18220924e-02, 3.28657462e-02, 2.26469395e-01, 2.81581226e-01,\n",
              "       1.76971725e-01, 1.18791885e-01, 2.33104277e-01, 1.11118569e-02,\n",
              "       5.76553986e-04, 2.94969715e-05, 1.48018571e-06, 7.23603613e-08,\n",
              "       3.49017526e-09, 1.83380422e-10, 9.61009050e-12, 4.90274488e-13,\n",
              "       2.84217094e-14, 0.00000000e+00, 0.00000000e+00, 7.10542736e-15,\n",
              "       3.55271368e-15, 3.55271368e-15, 2.48689958e-14, 5.86197757e-13,\n",
              "       1.12763132e-11, 2.15191420e-10, 4.13196588e-09, 8.57379554e-08,\n",
              "       1.75510973e-06, 3.57035856e-05, 6.90661411e-04, 1.33044955e-02,\n",
              "       2.17757986e-03, 6.03311851e-03, 1.34431046e-02, 2.40012634e-02,\n",
              "       3.95596122e-02, 2.35296992e-02, 6.24798709e-03, 8.07093918e-02,\n",
              "       1.57009928e-01, 3.79456550e-01, 2.57040692e-01, 1.05791344e-01,\n",
              "       2.13764998e-02, 1.54933192e-02, 3.57484074e-02, 3.74688849e-03,\n",
              "       2.60439727e-02, 1.55684236e-02, 8.75289918e-03, 3.64600185e-03,\n",
              "       1.33314943e-03, 4.56211488e-03, 1.24320729e-02, 2.21583985e-02,\n",
              "       3.78110118e-02, 6.62660664e-02, 8.13165995e-02, 8.16869789e-02,\n",
              "       1.78088233e-02, 2.51740963e-02, 1.98164488e-01, 1.79090481e-01,\n",
              "       3.32989828e-02, 1.43946388e-01, 9.63774286e-02, 6.81756222e-04,\n",
              "       3.81536306e-02, 4.35431811e-02, 2.41750112e-02, 1.37192985e-02,\n",
              "       7.83351597e-03, 3.11202736e-03, 4.39084256e-03, 1.21844793e-02,\n",
              "       2.38906268e-02, 4.27326740e-02, 7.47769005e-02, 6.63938132e-02,\n",
              "       2.89618679e-02, 7.94650180e-02, 6.62051324e-02, 1.16534523e-02,\n",
              "       1.23461053e-01, 2.10889095e-01, 2.41358112e-01, 2.02838454e-01,\n",
              "       1.16150248e-01, 6.02411300e-03, 4.76233969e-02, 2.61343142e-02,\n",
              "       1.41514723e-02, 6.88048565e-03, 2.58783195e-03])"
            ]
          },
          "metadata": {},
          "execution_count": 46
        }
      ]
    },
    {
      "cell_type": "code",
      "source": [
        "#error cuadratico medio\n",
        "def ecm(temperaturas, T_exacta):\n",
        "  temperaturas = np.array(temperaturas)\n",
        "  T_exacta = np.array(T_exacta)\n",
        "  n = len(temperaturas)\n",
        "  ecm = (sum((temperaturas - T_exacta) ** 2)) / n\n",
        "  return ecm "
      ],
      "metadata": {
        "id": "yeJTdQi50daa"
      },
      "execution_count": null,
      "outputs": []
    },
    {
      "cell_type": "code",
      "source": [
        "ecm(temperaturas, T_exacta)"
      ],
      "metadata": {
        "colab": {
          "base_uri": "https://localhost:8080/"
        },
        "id": "IpjmQcnU0f67",
        "outputId": "effda3e0-da74-4055-8878-f7820ebf991e"
      },
      "execution_count": null,
      "outputs": [
        {
          "output_type": "execute_result",
          "data": {
            "text/plain": [
              "0.060953001622315046"
            ]
          },
          "metadata": {},
          "execution_count": 48
        }
      ]
    },
    {
      "cell_type": "code",
      "source": [
        "#error relativo\n",
        "err_abs(temperaturas, T_exacta) / np.array(T_exacta)"
      ],
      "metadata": {
        "colab": {
          "base_uri": "https://localhost:8080/"
        },
        "id": "a6ZLQH9FtdrI",
        "outputId": "9794348b-fe34-496e-948a-17ff88ed3bc7"
      },
      "execution_count": null,
      "outputs": [
        {
          "output_type": "execute_result",
          "data": {
            "text/plain": [
              "array([5.67293321e-02, 8.36029791e-02, 6.02814090e-02, 2.99345578e-02,\n",
              "       9.80458504e-03, 3.59634991e-04, 2.97145814e-04, 1.19016295e-03,\n",
              "       3.02806914e-03, 7.17195994e-03, 1.24202875e-03, 1.25491077e-02,\n",
              "       5.81973662e-03, 2.49873729e-03, 1.10535799e-03, 5.98680702e-04,\n",
              "       3.61447443e-03, 1.36110685e-02, 2.77554773e-02, 4.04212120e-02,\n",
              "       3.15418506e-02, 1.22955835e-02, 1.77762039e-02, 3.13633416e-02,\n",
              "       2.81852551e-02, 6.34884092e-03, 3.83801728e-04, 3.17838756e-04,\n",
              "       1.39149069e-03, 3.91871556e-03, 1.10434551e-02, 7.96865618e-03,\n",
              "       2.25276029e-02, 8.07964355e-03, 2.80823090e-03, 1.13304668e-03,\n",
              "       6.33727736e-04, 1.76200150e-03, 1.21515288e-02, 1.51452266e-02,\n",
              "       9.57252366e-03, 6.50395887e-03, 1.39422465e-02, 6.55904631e-04,\n",
              "       3.40113638e-05, 1.73999292e-06, 8.73143334e-08, 4.26844829e-09,\n",
              "       2.05881125e-10, 1.08173844e-11, 5.66887361e-13, 2.89206861e-14,\n",
              "       1.67656151e-15, 0.00000000e+00, 0.00000000e+00, 4.19140378e-16,\n",
              "       2.09570189e-16, 2.09570189e-16, 1.46699132e-15, 3.45790812e-14,\n",
              "       6.65175780e-13, 1.26938759e-11, 2.43739560e-10, 5.05757600e-09,\n",
              "       1.03531743e-07, 2.10610595e-06, 4.07396032e-05, 7.84200291e-04,\n",
              "       1.36071502e-04, 3.76869151e-04, 8.39357873e-04, 1.49753929e-03,\n",
              "       2.46563779e-03, 1.46408099e-03, 3.87667433e-04, 4.98233110e-03,\n",
              "       9.60164379e-03, 2.27532491e-02, 1.49360448e-02, 6.01551327e-03,\n",
              "       1.20275036e-03, 8.67191207e-04, 1.99501817e-03, 2.08744002e-04,\n",
              "       1.44938557e-03, 8.65820070e-04, 4.86576260e-04, 2.02624799e-04,\n",
              "       7.40741654e-05, 2.85032643e-04, 7.76280575e-04, 1.38251220e-03,\n",
              "       2.35641216e-03, 4.12201232e-03, 5.04337214e-03, 5.04198613e-03,\n",
              "       1.09119172e-03, 1.52469124e-03, 1.18002075e-02, 1.04538878e-02,\n",
              "       1.91066659e-03, 8.15987122e-03, 5.42196950e-03, 3.81693550e-05,\n",
              "       2.12989088e-03, 2.42628919e-03, 1.34548863e-03, 7.63009557e-04,\n",
              "       4.35452158e-04, 1.72931565e-04, 2.74316481e-04, 7.60708886e-04,\n",
              "       1.49018687e-03, 2.66184162e-03, 4.64775086e-03, 4.11311844e-03,\n",
              "       1.78450196e-03, 4.85661696e-03, 3.99824900e-03, 6.92855919e-04,\n",
              "       7.21390844e-03, 1.21306657e-02, 1.37148415e-02, 1.14321226e-02,\n",
              "       6.51094936e-03, 3.36540757e-04, 2.65488614e-03, 1.45493755e-03,\n",
              "       7.87178057e-04, 3.82509836e-04, 1.43808235e-04])"
            ]
          },
          "metadata": {},
          "execution_count": 51
        }
      ]
    }
  ]
}